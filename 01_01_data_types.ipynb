{
 "cells": [
  {
   "cell_type": "markdown",
   "id": "32251fdd",
   "metadata": {},
   "source": [
    "## Data Types in Python \n",
    "\n",
    "The following data types can be used in base python:\n",
    "* **boolean**\n",
    "* **integer**\n",
    "* **float**\n",
    "* **string**\n",
    "* **list**\n",
    "* **None**\n",
    "* complex\n",
    "* object\n",
    "* set\n",
    "* dictionary\n",
    "\n",
    "We will only focus on the **bolded** ones\n",
    "\n",
    " \n",
    "\n",
    "## 1.  Numérica o cuantitativa (tomar la media tiene sentido)\n",
    "* 1.1 Discrete\n",
    "    * Integer (int) #Stored exactly\n",
    "* 1.2 Continuous\n",
    "    * Float (float) #Stored similarly to scientific notation. Allows for decimal places but loses precision.\n"
   ]
  },
  {
   "cell_type": "code",
   "execution_count": 1,
   "id": "0459eb1d",
   "metadata": {},
   "outputs": [],
   "source": [
    "import math"
   ]
  },
  {
   "cell_type": "markdown",
   "id": "857f4ad3",
   "metadata": {},
   "source": [
    "### Integers"
   ]
  },
  {
   "cell_type": "code",
   "execution_count": 2,
   "id": "middle-anthropology",
   "metadata": {},
   "outputs": [
    {
     "data": {
      "text/plain": [
       "int"
      ]
     },
     "execution_count": 2,
     "metadata": {},
     "output_type": "execute_result"
    }
   ],
   "source": [
    "type(4)"
   ]
  },
  {
   "cell_type": "code",
   "execution_count": 3,
   "id": "5d1a1cf7",
   "metadata": {},
   "outputs": [
    {
     "data": {
      "text/plain": [
       "int"
      ]
     },
     "execution_count": 3,
     "metadata": {},
     "output_type": "execute_result"
    }
   ],
   "source": [
    "type(0)"
   ]
  },
  {
   "cell_type": "code",
   "execution_count": 4,
   "id": "d0dcfc70",
   "metadata": {},
   "outputs": [
    {
     "data": {
      "text/plain": [
       "int"
      ]
     },
     "execution_count": 4,
     "metadata": {},
     "output_type": "execute_result"
    }
   ],
   "source": [
    "type(-3)\n"
   ]
  },
  {
   "cell_type": "markdown",
   "id": "17c27763",
   "metadata": {},
   "source": [
    "### Try taking the mean"
   ]
  },
  {
   "cell_type": "code",
   "execution_count": 5,
   "id": "5cfa6a81",
   "metadata": {},
   "outputs": [
    {
     "name": "stdout",
     "output_type": "stream",
     "text": [
      "3.5\n"
     ]
    },
    {
     "data": {
      "text/plain": [
       "float"
      ]
     },
     "execution_count": 5,
     "metadata": {},
     "output_type": "execute_result"
    }
   ],
   "source": [
    "numbers = [2, 3, 4, 5]\n",
    "print(sum(numbers)/len(numbers))\n",
    "type(sum(numbers)/len(numbers)) #In Python 3 returns float, but in Python 2 would return int"
   ]
  },
  {
   "cell_type": "markdown",
   "id": "ee935a8b",
   "metadata": {},
   "source": [
    "### Floats"
   ]
  },
  {
   "cell_type": "code",
   "execution_count": 6,
   "id": "d5b56b0b",
   "metadata": {},
   "outputs": [
    {
     "name": "stdout",
     "output_type": "stream",
     "text": [
      "3.5\n"
     ]
    },
    {
     "data": {
      "text/plain": [
       "float"
      ]
     },
     "execution_count": 6,
     "metadata": {},
     "output_type": "execute_result"
    }
   ],
   "source": [
    "numbers = [2, 3, 4, 5]\n",
    "\n",
    "print(sum(numbers)/len(numbers))\n",
    "type(sum(numbers)/len(numbers)) #In Python 3 returns float, but in Python 2 would return int"
   ]
  },
  {
   "cell_type": "markdown",
   "id": "8dad8d18",
   "metadata": {},
   "source": [
    "###  **Floats**\n",
    "\n",
    " \n",
    "\n",
    "\n"
   ]
  },
  {
   "cell_type": "code",
   "execution_count": 7,
   "id": "93920e0e",
   "metadata": {},
   "outputs": [
    {
     "data": {
      "text/plain": [
       "0.6"
      ]
     },
     "execution_count": 7,
     "metadata": {},
     "output_type": "execute_result"
    }
   ],
   "source": [
    "3/5"
   ]
  },
  {
   "cell_type": "code",
   "execution_count": 8,
   "id": "e6a2034c",
   "metadata": {},
   "outputs": [
    {
     "data": {
      "text/plain": [
       "0.6000000000000001"
      ]
     },
     "execution_count": 8,
     "metadata": {},
     "output_type": "execute_result"
    }
   ],
   "source": [
    "6*10**(-1) # 6 x 10 ^(-1) = 0.60 "
   ]
  },
  {
   "cell_type": "code",
   "execution_count": 9,
   "id": "27a95e2f",
   "metadata": {},
   "outputs": [
    {
     "data": {
      "text/plain": [
       "float"
      ]
     },
     "execution_count": 9,
     "metadata": {},
     "output_type": "execute_result"
    }
   ],
   "source": [
    "type(3/5)"
   ]
  },
  {
   "cell_type": "code",
   "execution_count": 3,
   "id": "043b7798",
   "metadata": {},
   "outputs": [
    {
     "name": "stdout",
     "output_type": "stream",
     "text": [
      "3.141592653589793\n"
     ]
    },
    {
     "data": {
      "text/plain": [
       "float"
      ]
     },
     "execution_count": 3,
     "metadata": {},
     "output_type": "execute_result"
    }
   ],
   "source": [
    "print(math.pi)\n",
    "type(math.pi)"
   ]
  },
  {
   "cell_type": "code",
   "execution_count": 11,
   "id": "69623993",
   "metadata": {},
   "outputs": [
    {
     "data": {
      "text/plain": [
       "float"
      ]
     },
     "execution_count": 11,
     "metadata": {},
     "output_type": "execute_result"
    }
   ],
   "source": [
    "type(4.0)"
   ]
  },
  {
   "cell_type": "code",
   "execution_count": 12,
   "id": "664528db",
   "metadata": {},
   "outputs": [
    {
     "data": {
      "text/plain": [
       "float"
      ]
     },
     "execution_count": 12,
     "metadata": {},
     "output_type": "execute_result"
    }
   ],
   "source": [
    "# Try taking the mean\n",
    "numbers = [math.pi, 3/5, 4.1]\n",
    "type(sum(numbers)/len(numbers))"
   ]
  },
  {
   "cell_type": "markdown",
   "id": "49356221",
   "metadata": {},
   "source": [
    " ## 2. Categorical or Qualitative\n",
    " * 2.1 Nominal\n",
    "     * Boolean (bool)\n",
    "     * String (str)\n",
    "     * None (NoneType)\n",
    " * 2.2 Ordinal\n",
    "     * Only defined by how you use the data\n",
    "     * Often important when creating visuals\n",
    "     * Lists can hold ordinal information because they have indices\n",
    "\n"
   ]
  },
  {
   "cell_type": "markdown",
   "id": "295dee23",
   "metadata": {},
   "source": [
    "### **Boolean**\n",
    " "
   ]
  },
  {
   "cell_type": "code",
   "execution_count": 13,
   "id": "4bfe30b5",
   "metadata": {},
   "outputs": [
    {
     "data": {
      "text/plain": [
       "bool"
      ]
     },
     "execution_count": 13,
     "metadata": {},
     "output_type": "execute_result"
    }
   ],
   "source": [
    "# Boolean\n",
    "type(True)"
   ]
  },
  {
   "cell_type": "code",
   "execution_count": 14,
   "id": "763e41d6",
   "metadata": {},
   "outputs": [
    {
     "data": {
      "text/plain": [
       "bool"
      ]
     },
     "execution_count": 14,
     "metadata": {},
     "output_type": "execute_result"
    }
   ],
   "source": [
    "type(bool('yes'))"
   ]
  },
  {
   "cell_type": "code",
   "execution_count": 14,
   "id": "d1a43efd",
   "metadata": {},
   "outputs": [
    {
     "name": "stdout",
     "output_type": "stream",
     "text": [
      "6 es menor que 7\n",
      "Mensaje predefinido\n"
     ]
    }
   ],
   "source": [
    "# Boolean\n",
    "x = 6\n",
    "y = 7\n",
    "if x < y:\n",
    "    print(\"{} es menor que {}\".format(x,y))\n",
    "print('Mensaje predefinido') # default message. "
   ]
  },
  {
   "cell_type": "code",
   "execution_count": 15,
   "id": "b84b5830",
   "metadata": {},
   "outputs": [
    {
     "name": "stdout",
     "output_type": "stream",
     "text": [
      "6 es menor que 7\n"
     ]
    }
   ],
   "source": [
    "if x < y:\n",
    "    print(\"{} es menor que {}\".format(x,y))\n",
    "else:\n",
    "    print(\"{} es mejor que {}\".format(x,y))"
   ]
  },
  {
   "cell_type": "code",
   "execution_count": 17,
   "id": "919ef3fd",
   "metadata": {},
   "outputs": [
    {
     "name": "stdout",
     "output_type": "stream",
     "text": [
      "True \t <class 'bool'>\n",
      "False \t <class 'bool'>\n",
      "False \t <class 'bool'>\n",
      "True \t <class 'bool'>\n"
     ]
    }
   ],
   "source": [
    "myList = [True, 6<5, 1==3, None is None]\n",
    "\n",
    "for element in myList:\n",
    "    print(element, '\\t', type(element))"
   ]
  },
  {
   "cell_type": "code",
   "execution_count": 18,
   "id": "ff00d033",
   "metadata": {},
   "outputs": [
    {
     "name": "stdout",
     "output_type": "stream",
     "text": [
      "Mean is :\t 0.5\n"
     ]
    },
    {
     "data": {
      "text/plain": [
       "float"
      ]
     },
     "execution_count": 18,
     "metadata": {},
     "output_type": "execute_result"
    }
   ],
   "source": [
    "print('Mean is :\\t', sum(myList)/len(myList))\n",
    "type(sum(myList)/len(myList))\n",
    " "
   ]
  },
  {
   "cell_type": "markdown",
   "id": "832d2f49",
   "metadata": {},
   "source": [
    "### **String**"
   ]
  },
  {
   "cell_type": "code",
   "execution_count": 19,
   "id": "0c8f0425",
   "metadata": {},
   "outputs": [
    {
     "data": {
      "text/plain": [
       "str"
      ]
     },
     "execution_count": 19,
     "metadata": {},
     "output_type": "execute_result"
    }
   ],
   "source": [
    "type(\"This sentence makes sense\")"
   ]
  },
  {
   "cell_type": "code",
   "execution_count": 20,
   "id": "9011e599",
   "metadata": {},
   "outputs": [
    {
     "data": {
      "text/plain": [
       "str"
      ]
     },
     "execution_count": 20,
     "metadata": {},
     "output_type": "execute_result"
    }
   ],
   "source": [
    "type(\"Makes sentense this sense\")"
   ]
  },
  {
   "cell_type": "code",
   "execution_count": 21,
   "id": "88759847",
   "metadata": {},
   "outputs": [
    {
     "data": {
      "text/plain": [
       "float"
      ]
     },
     "execution_count": 21,
     "metadata": {},
     "output_type": "execute_result"
    }
   ],
   "source": [
    "print(math.pi)\n",
    "type(math.pi)"
   ]
  },
  {
   "cell_type": "code",
   "execution_count": 23,
   "id": "67c36c62",
   "metadata": {},
   "outputs": [
    {
     "name": "stdout",
     "output_type": "stream",
     "text": [
      "math.pi\n"
     ]
    },
    {
     "data": {
      "text/plain": [
       "str"
      ]
     },
     "execution_count": 23,
     "metadata": {},
     "output_type": "execute_result"
    }
   ],
   "source": [
    "print(\"math.pi\")\n",
    "type(\"math.pi\")"
   ]
  },
  {
   "cell_type": "code",
   "execution_count": 27,
   "id": "21317285",
   "metadata": {},
   "outputs": [
    {
     "data": {
      "text/plain": [
       "['dog', 'koala', 'goose']"
      ]
     },
     "execution_count": 27,
     "metadata": {},
     "output_type": "execute_result"
    }
   ],
   "source": [
    "str_list = ['dog', 'koala', 'goose']\n",
    "#sum(strList)/len(strList)\n",
    "str_list"
   ]
  },
  {
   "cell_type": "code",
   "execution_count": 28,
   "id": "c2dd56da",
   "metadata": {},
   "outputs": [
    {
     "data": {
      "text/plain": [
       "3"
      ]
     },
     "execution_count": 28,
     "metadata": {},
     "output_type": "execute_result"
    }
   ],
   "source": [
    "len(str_list)"
   ]
  },
  {
   "cell_type": "markdown",
   "id": "7b865cd6",
   "metadata": {},
   "source": [
    "### **Nonetype**"
   ]
  },
  {
   "cell_type": "code",
   "execution_count": 29,
   "id": "ab3e1bd8",
   "metadata": {},
   "outputs": [
    {
     "data": {
      "text/plain": [
       "NoneType"
      ]
     },
     "execution_count": 29,
     "metadata": {},
     "output_type": "execute_result"
    }
   ],
   "source": [
    "# None\n",
    "type(None)"
   ]
  },
  {
   "cell_type": "code",
   "execution_count": 30,
   "id": "45d940cb",
   "metadata": {},
   "outputs": [],
   "source": [
    "#type(none) #Error, menoscula 'n'"
   ]
  },
  {
   "cell_type": "code",
   "execution_count": 31,
   "id": "b5cdd520",
   "metadata": {},
   "outputs": [
    {
     "data": {
      "text/plain": [
       "NoneType"
      ]
     },
     "execution_count": 31,
     "metadata": {},
     "output_type": "execute_result"
    }
   ],
   "source": [
    "# None\n",
    "\n",
    "x = None\n",
    "type(x)"
   ]
  },
  {
   "cell_type": "code",
   "execution_count": 27,
   "id": "8b0eabc3",
   "metadata": {},
   "outputs": [
    {
     "data": {
      "text/plain": [
       "5"
      ]
     },
     "execution_count": 27,
     "metadata": {},
     "output_type": "execute_result"
    }
   ],
   "source": [
    "none_list = [None]*5\n",
    "#sum(none_list)/len(none_list)\n",
    "len(none_list)"
   ]
  },
  {
   "cell_type": "code",
   "execution_count": 28,
   "id": "56061655",
   "metadata": {},
   "outputs": [
    {
     "data": {
      "text/plain": [
       "[None, None, None, None, None]"
      ]
     },
     "execution_count": 28,
     "metadata": {},
     "output_type": "execute_result"
    }
   ],
   "source": [
    "none_list"
   ]
  },
  {
   "cell_type": "code",
   "execution_count": 29,
   "id": "54b8a20a",
   "metadata": {},
   "outputs": [
    {
     "name": "stdout",
     "output_type": "stream",
     "text": [
      "[None, None, None, None, None]\n"
     ]
    }
   ],
   "source": [
    "print(none_list)"
   ]
  },
  {
   "cell_type": "markdown",
   "id": "802e4a66",
   "metadata": {},
   "source": [
    "### **Lists**\n",
    "\n",
    "Una lista puede contener muchos tipos y también se puede utilizar para almacenar información ordinal.\n",
    "\n",
    "\n"
   ]
  },
  {
   "cell_type": "code",
   "execution_count": 33,
   "id": "427adb9f",
   "metadata": {},
   "outputs": [
    {
     "name": "stdout",
     "output_type": "stream",
     "text": [
      "<class 'int'>\n",
      "<class 'float'>\n",
      "<class 'str'>\n",
      "<class 'NoneType'>\n"
     ]
    }
   ],
   "source": [
    "# List\n",
    "\n",
    "my_list = [1, 1.1, \"This is a sentence\", None]\n",
    "\n",
    "for i in my_list:\n",
    "    print(type(i))"
   ]
  },
  {
   "cell_type": "code",
   "execution_count": 34,
   "id": "2fa05758",
   "metadata": {},
   "outputs": [],
   "source": [
    "#sum(my_list)/len(my_list)"
   ]
  },
  {
   "cell_type": "code",
   "execution_count": 35,
   "id": "99fa9449",
   "metadata": {},
   "outputs": [
    {
     "data": {
      "text/plain": [
       "4"
      ]
     },
     "execution_count": 35,
     "metadata": {},
     "output_type": "execute_result"
    }
   ],
   "source": [
    "len(my_list)"
   ]
  },
  {
   "cell_type": "code",
   "execution_count": 36,
   "id": "519997bc",
   "metadata": {},
   "outputs": [
    {
     "data": {
      "text/plain": [
       "[1, 1.1, 'This is a sentence', None]"
      ]
     },
     "execution_count": 36,
     "metadata": {},
     "output_type": "execute_result"
    }
   ],
   "source": [
    " my_list"
   ]
  },
  {
   "cell_type": "code",
   "execution_count": 39,
   "id": "5d79e28c",
   "metadata": {},
   "outputs": [
    {
     "name": "stdout",
     "output_type": "stream",
     "text": [
      "1 \t <class 'int'>\n",
      "2 \t <class 'int'>\n",
      "3 \t <class 'int'>\n"
     ]
    },
    {
     "data": {
      "text/plain": [
       "[1, 2, 3]"
      ]
     },
     "execution_count": 39,
     "metadata": {},
     "output_type": "execute_result"
    }
   ],
   "source": [
    "# List\n",
    "\n",
    "my_list = [1, 2, 3]\n",
    "\n",
    "for i in my_list:\n",
    "    print(i,'\\t', type(i))\n",
    "    \n",
    "my_list"
   ]
  },
  {
   "cell_type": "code",
   "execution_count": 35,
   "id": "a4947fd7",
   "metadata": {},
   "outputs": [
    {
     "data": {
      "text/plain": [
       "3"
      ]
     },
     "execution_count": 35,
     "metadata": {},
     "output_type": "execute_result"
    }
   ],
   "source": [
    "len(my_list)"
   ]
  },
  {
   "cell_type": "code",
   "execution_count": 36,
   "id": "95490858",
   "metadata": {},
   "outputs": [
    {
     "data": {
      "text/plain": [
       "2.0"
      ]
     },
     "execution_count": 36,
     "metadata": {},
     "output_type": "execute_result"
    }
   ],
   "source": [
    "sum(my_list)/len(my_list) # note that this outputs a float"
   ]
  },
  {
   "cell_type": "code",
   "execution_count": 40,
   "id": "503e1340",
   "metadata": {},
   "outputs": [
    {
     "data": {
      "text/plain": [
       "'third'"
      ]
     },
     "execution_count": 40,
     "metadata": {},
     "output_type": "execute_result"
    }
   ],
   "source": [
    "my_list = ['third', 'first', 'medium', 'small', 'large']\n",
    "my_list[0]"
   ]
  },
  {
   "cell_type": "code",
   "execution_count": 41,
   "id": "b7bc721e",
   "metadata": {},
   "outputs": [
    {
     "data": {
      "text/plain": [
       "['first', 'large', 'medium', 'small', 'third']"
      ]
     },
     "execution_count": 41,
     "metadata": {},
     "output_type": "execute_result"
    }
   ],
   "source": [
    "my_list.sort()\n",
    "my_list"
   ]
  },
  {
   "cell_type": "code",
   "execution_count": 42,
   "id": "641934fa",
   "metadata": {},
   "outputs": [
    {
     "data": {
      "text/plain": [
       "['first', 'large']"
      ]
     },
     "execution_count": 42,
     "metadata": {},
     "output_type": "execute_result"
    }
   ],
   "source": [
    "my_list[:2] #from begining to 2(pos 2 not included)"
   ]
  },
  {
   "cell_type": "code",
   "execution_count": 43,
   "id": "bcd27622",
   "metadata": {},
   "outputs": [
    {
     "data": {
      "text/plain": [
       "['medium', 'small', 'third']"
      ]
     },
     "execution_count": 43,
     "metadata": {},
     "output_type": "execute_result"
    }
   ],
   "source": [
    "my_list[2:] #from pos 2 to end. "
   ]
  },
  {
   "cell_type": "code",
   "execution_count": 44,
   "id": "18828270",
   "metadata": {},
   "outputs": [
    {
     "data": {
      "text/plain": [
       "['first', 'large', 'medium', 'small', 'third']"
      ]
     },
     "execution_count": 44,
     "metadata": {},
     "output_type": "execute_result"
    }
   ],
   "source": [
    "my_list[:] #from begining to end"
   ]
  },
  {
   "cell_type": "code",
   "execution_count": 45,
   "id": "835d1c74",
   "metadata": {},
   "outputs": [
    {
     "data": {
      "text/plain": [
       "'third'"
      ]
     },
     "execution_count": 45,
     "metadata": {},
     "output_type": "execute_result"
    }
   ],
   "source": [
    "my_list[-1] #last of the list"
   ]
  },
  {
   "cell_type": "code",
   "execution_count": 46,
   "id": "bbf5bc52",
   "metadata": {},
   "outputs": [
    {
     "data": {
      "text/plain": [
       "['first', 'large', 'medium']"
      ]
     },
     "execution_count": 46,
     "metadata": {},
     "output_type": "execute_result"
    }
   ],
   "source": [
    "my_list[:-2] #from begining to second last(not included) element. "
   ]
  },
  {
   "cell_type": "code",
   "execution_count": 47,
   "id": "52738360",
   "metadata": {},
   "outputs": [
    {
     "data": {
      "text/plain": [
       "['small', 'third']"
      ]
     },
     "execution_count": 47,
     "metadata": {},
     "output_type": "execute_result"
    }
   ],
   "source": [
    "my_list[-2:] #from second last (included) to end. "
   ]
  },
  {
   "cell_type": "markdown",
   "id": "b25045cc",
   "metadata": {},
   "source": [
    "There are more datatypes available when using different libraries such as Pandas and Numpy, which we will introduce to you as we use them."
   ]
  }
 ],
 "metadata": {
  "kernelspec": {
   "display_name": "Python 3 (ipykernel)",
   "language": "python",
   "name": "python3"
  },
  "language_info": {
   "codemirror_mode": {
    "name": "ipython",
    "version": 3
   },
   "file_extension": ".py",
   "mimetype": "text/x-python",
   "name": "python",
   "nbconvert_exporter": "python",
   "pygments_lexer": "ipython3",
   "version": "3.9.5"
  }
 },
 "nbformat": 4,
 "nbformat_minor": 5
}
