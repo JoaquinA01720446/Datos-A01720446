{
 "cells": [
  {
   "cell_type": "markdown",
   "id": "d153008f",
   "metadata": {},
   "source": [
    "# Visualización de datos en Python\n",
    "#### Tablas, histogramas, diagramas de caja y corte para estadísticas\n",
    "\n",
    "Cuando se trabaja con un nuevo conjunto de datos, una de las cosas más útiles es comenzar a visualizar los datos. Mediante el uso de tablas, histogramas, diagramas de caja y otras herramientas visuales, podemos tener una mejor idea de lo que los datos pueden estar tratando de decirnos y podemos obtener información sobre los datos que quizás no hubiéramos descubierto de otra manera.\n",
    "\n",
    "Repasaremos cómo realizar algunas visualizaciones básicas en Python y, lo más importante, aprenderemos cómo comenzar a explorar datos desde una perspectiva gráfica."
   ]
  },
  {
   "cell_type": "code",
   "execution_count": null,
   "id": "b69c0c90",
   "metadata": {},
   "outputs": [],
   "source": [
    "# We first need to import the packages that we will be using\n",
    "import seaborn as sns # For plotting\n",
    "import pandas as pd\n",
    "import matplotlib.pyplot as plt # For showing plots\n",
    "\n",
    "# Load in the data set\n",
    "tips_data = pd.read_csv(\"Datasets/tips.csv\")"
   ]
  },
  {
   "cell_type": "markdown",
   "id": "c7e68aaf",
   "metadata": {},
   "source": [
    "\n",
    "#### Visualizing the Data - Tables\n",
    "When you begin working with a new data set,  it is often best to print out the first few rows before you begin other analysis. This will show you what kind of data is in the dataset, what data types you are working with, and will serve as a reference for the other plots that we are about to make. "
   ]
  },
  {
   "cell_type": "code",
   "execution_count": null,
   "id": "adea43dc",
   "metadata": {},
   "outputs": [],
   "source": [
    "# Print out the first few rows of the data\n",
    "tips_data.head()"
   ]
  },
  {
   "cell_type": "markdown",
   "id": "1b91a154",
   "metadata": {},
   "source": [
    "#### Describing Data\n",
    "Summary statistics, which include things like the mean, min, and max of the data, can be useful to get a feel for how large some of the variables are and what variables may be the most important. "
   ]
  },
  {
   "cell_type": "code",
   "execution_count": null,
   "id": "3b88e323",
   "metadata": {},
   "outputs": [],
   "source": [
    "# Print out the summary statistics for the quantitative variables\n",
    "tips_data.describe()"
   ]
  },
  {
   "cell_type": "code",
   "execution_count": null,
   "id": "posted-drawing",
   "metadata": {},
   "outputs": [],
   "source": [
    "desc = tips_data['size'].describe()\n",
    "desc"
   ]
  },
  {
   "cell_type": "code",
   "execution_count": null,
   "id": "fossil-angle",
   "metadata": {},
   "outputs": [],
   "source": [
    "tips_data['total_bill'].describe()"
   ]
  },
  {
   "cell_type": "code",
   "execution_count": null,
   "id": "93c489ea",
   "metadata": {},
   "outputs": [],
   "source": [
    "just_bills = ((tips_data['size']>3) &(tips_data['size']<7))\n",
    "just_bills "
   ]
  },
  {
   "cell_type": "code",
   "execution_count": null,
   "id": "469b22d5",
   "metadata": {},
   "outputs": [],
   "source": [
    "tips_data1 = tips_data[just_bills] \n",
    "tips_data1"
   ]
  },
  {
   "cell_type": "code",
   "execution_count": null,
   "id": "0257b2d0",
   "metadata": {},
   "outputs": [],
   "source": [
    "tips_data1['size'].unique()"
   ]
  },
  {
   "cell_type": "code",
   "execution_count": null,
   "id": "0e6d90e7",
   "metadata": {},
   "outputs": [],
   "source": [
    "tips_data1['size'].value_counts()\n"
   ]
  },
  {
   "cell_type": "code",
   "execution_count": null,
   "id": "41ad783d",
   "metadata": {},
   "outputs": [],
   "source": [
    "# Plot a histogram of the total bill\n",
    "sns.distplot(tips_data1[\"size\"], kde = False).set_title(\"Histogram of size\")\n",
    "plt.show()"
   ]
  },
  {
   "cell_type": "code",
   "execution_count": null,
   "id": "8894e55d",
   "metadata": {},
   "outputs": [],
   "source": [
    "tips_data2 = tips_data.loc[just_bills, 'size'] \n",
    "tips_data2"
   ]
  },
  {
   "cell_type": "code",
   "execution_count": null,
   "id": "943e491a",
   "metadata": {},
   "outputs": [],
   "source": [
    "tips_data3 = tips_data.loc[just_bills, ['size', 'total_bill']] \n",
    "tips_data3"
   ]
  },
  {
   "cell_type": "code",
   "execution_count": null,
   "id": "8b4f6859",
   "metadata": {},
   "outputs": [],
   "source": [
    "#tips_data1['day']\n",
    "tips_data1"
   ]
  },
  {
   "cell_type": "code",
   "execution_count": null,
   "id": "c8c86f4e",
   "metadata": {},
   "outputs": [],
   "source": [
    "prefered_days = ['Sun','Sat' ]\n",
    "filt = tips_data1['day'].isin(prefered_days)"
   ]
  },
  {
   "cell_type": "code",
   "execution_count": null,
   "id": "1e32d488",
   "metadata": {},
   "outputs": [],
   "source": [
    "tips_data1.loc[filt]"
   ]
  },
  {
   "cell_type": "code",
   "execution_count": null,
   "id": "9af53ad0",
   "metadata": {},
   "outputs": [],
   "source": [
    "tips_data1.loc[filt, 'size']"
   ]
  },
  {
   "cell_type": "code",
   "execution_count": null,
   "id": "forbidden-visitor",
   "metadata": {},
   "outputs": [],
   "source": [
    "print('='*30,'Good luck!', '='*30)"
   ]
  }
 ],
 "metadata": {
  "kernelspec": {
   "display_name": "Python 3 (ipykernel)",
   "language": "python",
   "name": "python3"
  },
  "language_info": {
   "codemirror_mode": {
    "name": "ipython",
    "version": 3
   },
   "file_extension": ".py",
   "mimetype": "text/x-python",
   "name": "python",
   "nbconvert_exporter": "python",
   "pygments_lexer": "ipython3",
   "version": "3.9.5"
  }
 },
 "nbformat": 4,
 "nbformat_minor": 5
}
