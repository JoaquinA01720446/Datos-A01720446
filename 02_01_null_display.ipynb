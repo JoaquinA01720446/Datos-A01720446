{
 "cells": [
  {
   "cell_type": "markdown",
   "id": "f0996533",
   "metadata": {},
   "source": [
    "# Usar Python para leer archivos de datos y explorar su contenido\n",
    "\n",
    "Este cuaderno demuestra el uso de la biblioteca de procesamiento de datos [Pandas](http://pandas.pydata.org) para leer un conjunto de datos en Python y obtener una comprensión básica de su contenido.\n",
    "\n",
    "Tenga en cuenta que Python en sí mismo es un lenguaje de programación de propósito general y no proporciona capacidades de procesamiento de datos de alto nivel. La biblioteca Pandas se desarrolló para satisfacer esta necesidad. Pandas es la biblioteca de Python más popular para la manipulación de datos, y la usaremos ampliamente en este curso.\n",
    "\n",
    "Además de Pandas, también usaremos las siguientes bibliotecas de Python\n",
    "\n",
    "* [Numpy](http://www.numpy.org) es una biblioteca para trabajar con matrices de datos\n",
    "\n",
    "* [Matplotlib](https://matplotlib.org) es una biblioteca para hacer gráficos\n",
    "\n",
    "* [Seaborn](https://seaborn.pydata.org) es una interfaz de nivel superior para Matplotlib que se puede utilizar para simplificar muchas tareas gráficas\n",
    "\n",
    "* [Statsmodels](https://www.statsmodels.org/stable/index.html) es una biblioteca que implementa muchas técnicas estadísticas\n",
    "\n",
    "* [Scipy](https://www.scipy.org) es una biblioteca de técnicas de computación numérica y científica.\n",
    "\n",
    "\n",
    "## Documentación\n",
    "\n",
    "La documentación confiable y accesible es una necesidad absoluta cuando se trata de la transferencia de conocimientos de lenguajes de programación. Afortunadamente, Python proporciona una cantidad significativa de documentación detallada que explica los entresijos de la sintaxis del lenguaje, las bibliotecas y más.\n",
    "\n",
    "Comprender cómo leer la documentación es crucial para cualquier programador, ya que servirá como un recurso fantástico para aprender las complejidades de Python.\n",
    "\n",
    "Aquí está el enlace a la documentación de la biblioteca estándar de Python: Biblioteca estándar de Python\n",
    "\n",
    "\n",
    "### Importando bibliotecas\n",
    "\n",
    "Al usar Python, siempre debe comenzar sus scripts importando las bibliotecas que usará. Después de importar una biblioteca, sus funciones se pueden llamar desde su código anteponiendo el nombre de la biblioteca al nombre de la función. Por ejemplo, para usar la función '`dot`' de la biblioteca '` numpy`', debe ingresar '`numpy.dot`'. Para evitar tener que escribir repetidamente el nombre de la biblioteca en sus scripts, es convencional definir una abreviatura de dos o tres letras para cada biblioteca, p. Ej. '`numpy`' generalmente se abrevia como '` np`'. Esto nos permite usar '`np.dot`' en lugar de '` numpy.dot`'. De manera similar, la biblioteca de Pandas generalmente se abrevia como '`pd`'.\n",
    "\n",
    "La siguiente declaración importa la biblioteca Pandas y le da el nombre abreviado 'pd'."
   ]
  },
  {
   "cell_type": "code",
   "execution_count": null,
   "id": "a2a912f7",
   "metadata": {},
   "outputs": [],
   "source": [
    "import pandas as pd"
   ]
  },
  {
   "cell_type": "markdown",
   "id": "283dc4f6",
   "metadata": {},
   "source": [
    "### Leer un archivo de datos\n",
    "\n",
    "Trabajaremos con los datos de la NHANES (Encuesta Nacional de Examen de Salud y Nutrición) de la ola 2015-2016. Los datos brutos de este estudio están disponibles [aquí](https://wwwn.cdc.gov/nchs/nhanes/Default.aspx):\n",
    "\n",
    "Como en muchos estudios grandes, los datos de NHANES se distribuyen en varios archivos. Los archivos NHANES se almacenan en formato [transporte SAS](https://v8doc.sas.com/sashtml/files/z0987199.htm) (Xport). Este es un formato algo oscuro, y aunque Pandas es perfectamente capaz de leer los datos de NHANES directamente desde los archivos xport, lograr esta tarea es un tema más avanzado de lo que queremos abordar aquí. Por lo tanto, para este curso hemos preparado algunos conjuntos de datos combinados en formato texto / csv.\n",
    "\n",
    "``Pandas`` es una biblioteca grande y poderosa. Aquí solo usaremos algunas de sus características básicas. La estructura de datos principal con la que trabaja Pandas se llama ``data frame``. \n",
    "     \n",
    "    Se trata de una tabla de datos bidimensional en la que las filas suelen representar casos (por ejemplo, sujetos NHANES) y las columnas representan variables. \n",
    "    \n",
    "`Pandas` también tiene una estructura de datos unidimensional llamada ``Series`` que encontraremos ocasionalmente.\n",
    "\n",
    "Pandas tiene una variedad de funciones nombradas con el patrón ``read_xxx`` para leer datos en diferentes formatos en Python. En este momento nos centraremos en leer archivos '`csv`', por lo que estamos usando la función '` read_csv`', que puede leer archivos en formato csv (y \"tsv\") que se exportan desde un software de hoja de cálculo como Excel. \n",
    "\n",
    "    La función 'read_csv' por defecto espera que la primera fila del archivo de datos contenga nombres de columna.\n",
    "\n",
    "Usar '`read_csv`' en su modo predeterminado es bastante sencillo. Hay muchas opciones para '`read_csv`' que son útiles para manejar situaciones menos comunes. \n",
    "\n",
    "   Por ejemplo, usaría la opción `sep = '\\ t'` en lugar del predeterminado `sep =', '` si los campos de su archivo de datos están delimitados por tabulaciones en lugar de comas. Consulte [aquí](https://pandas.pydata.org/pandas-docs/stable/generated/pandas.read_csv.html) para obtener la documentación completa de '`read_csv`'.\n",
    "\n",
    "Los pandas pueden leer un archivo de datos en Internet cuando se les proporciona una URL. En el script de Python nombraremos el conjunto de datos '`da`', es decir, este es el nombre de la variable de Python que contendrá el marco de datos después de que lo hayamos cargado.\n",
    "\n",
    "La variable '`url`' contiene un valor de cadena (texto), que es la URL de Internet donde se encuentran los datos. Si tiene el archivo de datos en su sistema de archivos local, también puede usar '`read_csv`' para leer los datos de este archivo. En este caso, pasaría una ruta de archivo en lugar de una URL, p. Ej. `pd.read_csv (\" my_file.csv \")` leería un archivo llamado `my_file.csv` que se encuentra en su directorio de trabajo actual."
   ]
  },
  {
   "cell_type": "code",
   "execution_count": null,
   "id": "81068ce8",
   "metadata": {},
   "outputs": [],
   "source": [
    "data = \"datasets/nhanes_2015_2016.csv\"\n",
    "da = pd.read_csv(data)"
   ]
  },
  {
   "cell_type": "markdown",
   "id": "764e6afe",
   "metadata": {},
   "source": [
    "Para confirmar que realmente hemos obtenido los datos que esperábamos, podemos mostrar la forma (número de filas y columnas) del marco de datos en el cuaderno. Tenga en cuenta que la expresión final en cualquier celda del cuaderno de Jupyter se imprime automáticamente, pero puede forzar la impresión de otras expresiones utilizando la función '`print`', por ej. '`print (da.shape)`'.\n",
    "\n",
    "Según lo que vemos a continuación, el conjunto de datos que se lee aquí tiene 5735 filas, correspondientes a 5735 personas en esta ola del estudio NHANES, y 28 columnas, correspondientes a 28 variables en este archivo de datos en particular. Tenga en cuenta que NHANES recopila miles de variables sobre cada tema de estudio, pero aquí estamos trabajando con un archivo reducido que contiene un número limitado de variables."
   ]
  },
  {
   "cell_type": "code",
   "execution_count": null,
   "id": "875aa1bf",
   "metadata": {},
   "outputs": [],
   "source": [
    "print(da.shape)\n",
    "\n",
    "da.shape"
   ]
  },
  {
   "cell_type": "markdown",
   "id": "2e0b55ce",
   "metadata": {},
   "source": [
    "### Exploring the contents of a data set\n",
    "\n",
    "Pandas has a number of basic ways to understand what is in a data set.  For example, above we used the '`shape`' method to determine the numbers of rows and columns in a data set.  The columns in a Pandas data frame have names, to see the names, use the '`columns`' method:"
   ]
  },
  {
   "cell_type": "code",
   "execution_count": null,
   "id": "88b8d3f3",
   "metadata": {},
   "outputs": [],
   "source": [
    "da.columns"
   ]
  },
  {
   "cell_type": "markdown",
   "id": "ae143dbf",
   "metadata": {},
   "source": [
    "Estos nombres corresponden a variables del estudio NHANES. Por ejemplo, `SEQN` es un identificador único para una persona y` BMXWT` es el peso del sujeto en kilogramos (\"BMX\" es el prefijo NHANES para las medidas corporales). Las variables del conjunto de datos de NHANES están documentadas en un conjunto de \"codebooks\" que están disponibles en línea. Los libros de códigos para la ola 2015-2016 de NHANES se pueden encontrar siguiendo los enlaces en la siguiente página:\n",
    "\n",
    "https://wwwn.cdc.gov/nchs/nhanes/continuousnhanes/default.aspx?BeginYear=2015\n",
    "\n",
    "Para mayor comodidad, a continuación se incluyen enlaces directos a algunos de los libros de códigos:\n",
    "\n",
    "* [Demographics code book](https://wwwn.cdc.gov/Nchs/Nhanes/2015-2016/DEMO_I.htm)\n",
    "\n",
    "* [Body measures code book](https://wwwn.cdc.gov/Nchs/Nhanes/2015-2016/BMX_I.htm)\n",
    "\n",
    "* [Blood pressure code book](https://wwwn.cdc.gov/Nchs/Nhanes/2015-2016/BPX_I.htm)\n",
    "\n",
    "* [Alcohol questionaire code book](https://wwwn.cdc.gov/Nchs/Nhanes/2015-2016/ALQ_I.htm)\n",
    "\n",
    "* [Smoking questionaire code book](https://wwwn.cdc.gov/Nchs/Nhanes/2015-2016/SMQ_I.htm)"
   ]
  },
  {
   "cell_type": "markdown",
   "id": "362395d5",
   "metadata": {},
   "source": [
    "Cada variable en un marco de datos de Pandas tiene un tipo de datos. Hay muchos tipos de datos diferentes, pero lo más común es que encuentre valores de punto flotante (números reales), enteros, cadenas (texto) y valores de fecha / hora. Cuando Pandas lee un archivo de texto / csv, adivina los tipos de datos en función de lo que ve en las primeras filas del archivo de datos. Por lo general, selecciona un tipo apropiado, pero ocasionalmente no lo hace. Para confirmar que los tipos de datos son consistentes con lo que representan las variables, inspeccione el atributo '`dtypes`' del marco de datos."
   ]
  },
  {
   "cell_type": "code",
   "execution_count": null,
   "id": "58905fe3",
   "metadata": {},
   "outputs": [],
   "source": [
    "da.dtypes"
   ]
  },
  {
   "cell_type": "markdown",
   "id": "e9ffa05c",
   "metadata": {},
   "source": [
    "As we see here, most of the variables have floating point or integer data type.  Unlike many data sets, NHANES does not use any text values in its data.  For example, while many datasets would use text labels like \"F\" or \"M\" to denote a subject's gender, this information is represented in NHANES with integer codes.  The actual meanings of these codes can be determined from the codebooks.  For example, the variable `RIAGENDR` contains each subject's gender, with male gender coded as `1` and female gender coded as `2`.  The `RIAGENDR` variable is part of the demographics component of NHANES, so this coding can be found in the demographics codebook.\n",
    "\n",
    "Variables like `BMXWT` which represent a quantitative measurement will typically be stored as floating point data values."
   ]
  },
  {
   "cell_type": "markdown",
   "id": "acd353f9",
   "metadata": {},
   "source": [
    "### Cortar un conjunto de datos\n",
    "\n",
    "Como se mencionó anteriormente, un marco de datos de Pandas es una tabla de datos rectangular, en la que las filas representan casos y las columnas representan variables. Una manipulación común de un marco de datos es extraer los datos de un caso o de una variable. Hay varias formas de hacer esto, como se muestra a continuación.\n",
    "\n",
    "Para extraer todos los valores de una variable, _los siguientes tres enfoques son equivalentes_ (\"DMDEDUC2\" aquí es una variable NHANES que contiene el logro educativo de una persona). \n",
    "\n",
    "En estas cuatro líneas de código, estamos asignando los datos de una columna del marco de datos `da` a las nuevas variables` w`, `x`,` y` y `z`. \n",
    "\n",
    "Los primeros tres enfoques acceden a la variable por su nombre. \n",
    "\n",
    "El cuarto enfoque accede a la variable por posición (tenga en cuenta que `DMDEDUC2` está en la posición 9 de la matriz` da.columns` que se muestra arriba; recuerde que Python cuenta comenzando en la posición cero)."
   ]
  },
  {
   "cell_type": "code",
   "execution_count": null,
   "id": "1aa800f6",
   "metadata": {},
   "outputs": [],
   "source": [
    "x = da.loc[:, \"DMDEDUC2\"]"
   ]
  },
  {
   "cell_type": "markdown",
   "id": "c6e83603",
   "metadata": {},
   "source": [
    "Otra razón para cortar una variable de un marco de datos es para que luego podamos pasarla a una función. Por ejemplo, podemos encontrar el valor máximo sobre todos los valores de `DMDEDUC2` usando cualquiera de las siguientes cuatro líneas de código:"
   ]
  },
  {
   "cell_type": "code",
   "execution_count": null,
   "id": "dd48c282",
   "metadata": {},
   "outputs": [],
   "source": [
    "print(da.loc[:, \"DMDEDUC2\"].max())"
   ]
  },
  {
   "cell_type": "markdown",
   "id": "ceaf5c34",
   "metadata": {},
   "source": [
    "Cada valor en un programa Python tiene un tipo, y la información del tipo se puede obtener usando la función '`type`' de Python. Esto puede ser útil, por ejemplo, si está buscando la documentación asociada con algún valor, pero no sabe cuál es el tipo de valor.\n",
    "\n",
    "Aquí vemos que la variable `da` tiene el tipo 'DataFrame', mientras que una columna de` da` tiene el tipo 'Series'. Como se señaló anteriormente, una serie es una estructura de datos de Pandas para contener una sola columna (o fila) de datos."
   ]
  },
  {
   "cell_type": "code",
   "execution_count": null,
   "id": "e6e81f44",
   "metadata": {},
   "outputs": [],
   "source": [
    "print(type(da.iloc[2,:])) # The type of one row of the data frame"
   ]
  },
  {
   "cell_type": "markdown",
   "id": "b442452a",
   "metadata": {},
   "source": [
    "También puede resultar útil cortar una fila (caso) de un marco de datos. Así como las columnas de un marco de datos tienen nombres, las filas también tienen nombres, que se denominan `index`. \n",
    "\n",
    "Sin embargo, muchos conjuntos de datos no tienen nombres de fila significativos, por lo que es más común extraer una fila de un marco de datos usando su posición. \n",
    "\n",
    "El método `iloc` corta filas o columnas de un marco de datos por posición (contando desde 0). La siguiente línea de código extrae la fila 3 del conjunto de datos (que es la cuarta fila, contando desde cero)."
   ]
  },
  {
   "cell_type": "code",
   "execution_count": null,
   "id": "abf43045",
   "metadata": {},
   "outputs": [],
   "source": [
    "x = da.iloc[3, :]\n",
    "x"
   ]
  },
  {
   "cell_type": "markdown",
   "id": "05b3e404",
   "metadata": {},
   "source": [
    "Otra manipulación importante del marco de datos es extraer un bloque contiguo de filas o columnas del conjunto de datos. A continuación, dividimos por posición, en el primer caso tomando las posiciones de las filas 3 y 4 (contando desde 0, que son las filas 4 y 5 contando desde 1), y en el segundo caso tomando las columnas 2, 3 y 4 (columnas 3, 4 , 5 si se cuenta desde 1)."
   ]
  },
  {
   "cell_type": "code",
   "execution_count": null,
   "id": "583e1384",
   "metadata": {},
   "outputs": [],
   "source": [
    "y = da.iloc[:, 2:5]"
   ]
  },
  {
   "cell_type": "markdown",
   "id": "e2982066",
   "metadata": {},
   "source": [
    "### Datos perdidos\n",
    "\n",
    "Al leer un conjunto de datos con Pandas, hay un conjunto de valores que incluyen 'NA', 'NULL' y 'NaN' que se toman de forma predeterminada para representar un valor faltante. La lista completa de códigos de valores faltantes predeterminados se encuentra en la documentación '`read_csv`' [aquí](https://pandas.pydata.org/pandas-docs/stable/generated/pandas.read_csv.html). Este documento también explica cómo cambiar la forma en que '`read_csv`' decide si falta el valor de una variable.\n",
    "\n",
    "Pandas tiene funciones llamadas `isnull` y` notnull` que se pueden usar para identificar dónde se encuentran los valores perdidos y no perdidos en un marco de datos. A continuación, usamos estas funciones para contar el número de valores \"DMDEDUC2\" que faltan y que no faltan."
   ]
  },
  {
   "cell_type": "code",
   "execution_count": null,
   "id": "cd75879d",
   "metadata": {},
   "outputs": [],
   "source": [
    "full_dmdeduc2 = da.DMDEDUC2\n",
    "full_dmdeduc2"
   ]
  },
  {
   "cell_type": "code",
   "execution_count": null,
   "id": "f387b835",
   "metadata": {},
   "outputs": [],
   "source": [
    "pd.set_option('display.max_rows', 500,'display.max_columns', 500)\n",
    "#da.head(100)\n",
    "full_dmdeduc2.head(25)"
   ]
  },
  {
   "cell_type": "code",
   "execution_count": null,
   "id": "cf94eebe",
   "metadata": {},
   "outputs": [],
   "source": [
    "no_nulls = full_dmdeduc2.dropna()\n",
    "no_nulls.head(25)"
   ]
  },
  {
   "cell_type": "code",
   "execution_count": null,
   "id": "69afb88f",
   "metadata": {},
   "outputs": [],
   "source": [
    "pd.set_option('display.max_rows', 500)\n",
    "#da.head(100)\n",
    "no_nulls.head(100)"
   ]
  },
  {
   "cell_type": "code",
   "execution_count": null,
   "id": "424a954d",
   "metadata": {},
   "outputs": [],
   "source": [
    "pd.set_option('display.max_columns', 500)\n",
    "#da.head(100)\n",
    "no_nulls.head(100)"
   ]
  },
  {
   "cell_type": "code",
   "execution_count": null,
   "id": "0da6a9d1",
   "metadata": {},
   "outputs": [],
   "source": [
    "print(pd.notnull(da.DMDEDUC2).sum())"
   ]
  },
  {
   "cell_type": "markdown",
   "id": "9a68517b",
   "metadata": {},
   "source": [
    "Como acotación al margen, tenga en cuenta que puede haber una variedad de formas distintas de ausencia en una variable y, en algunos casos, es importante mantener estos valores distintos.\n",
    "\n",
    "Por ejemplo, en el caso de la variable DMDEDUC2, además de los valores en blanco o NA que Pandas considera que faltan, tres personas respondieron \"no sé\" (valor de código 9). En muchos análisis, los valores de \"no sé\" también se tratarán como faltantes, pero en este punto estamos considerando que \"no sé\" es una categoría distinta de respuesta observada."
   ]
  },
  {
   "cell_type": "code",
   "execution_count": null,
   "id": "268c8002",
   "metadata": {},
   "outputs": [],
   "source": []
  }
 ],
 "metadata": {
  "kernelspec": {
   "display_name": "Python 3 (ipykernel)",
   "language": "python",
   "name": "python3"
  },
  "language_info": {
   "codemirror_mode": {
    "name": "ipython",
    "version": 3
   },
   "file_extension": ".py",
   "mimetype": "text/x-python",
   "name": "python",
   "nbconvert_exporter": "python",
   "pygments_lexer": "ipython3",
   "version": "3.9.5"
  }
 },
 "nbformat": 4,
 "nbformat_minor": 5
}
