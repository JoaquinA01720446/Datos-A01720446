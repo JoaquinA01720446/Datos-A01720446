{
 "cells": [
  {
   "cell_type": "markdown",
   "id": "442bb544",
   "metadata": {},
   "source": [
    "# Bibliotecas de Python\n",
    "\n",
    "Para este tutorial, describiremos los usos más comunes de cada una de las siguientes bibliotecas:\n",
    "\n",
    "* **Numpy** es una biblioteca para trabajar con matrices de datos.\n",
    "\n",
    "* **Scipy** es una biblioteca de técnicas de computación numérica y científica.\n",
    "\n",
    "* **Matplotlib** es una biblioteca para realizar visualizaciones.\n",
    "\n",
    "* **Seaborn** es una interfaz de nivel superior para Matplotlib que se puede utilizar para simplificar muchas tareas de visualización.\n",
    " \n",
    "\n",
    "\n",
    "## NumPy\n",
    "\n",
    "NumPy es el paquete fundamental para la informática científica con Python. Contiene entre otras cosas:\n",
    "\n",
    "* un poderoso objeto de matriz N-dimensional\n",
    "* funciones sofisticadas (de radiodifusión)\n",
    "* herramientas para integrar código C / C ++ y Fortran\n",
    "* Álgebra lineal útil, transformada de Fourier y capacidades de números aleatorios\n",
    "\n",
    "Nos centraremos en el objeto de matriz numpy.\n",
    "\n",
    "### 1. Numpy Array\n",
    "\n",
    "Una matriz numpy es una cuadrícula de valores, todos del mismo tipo, y está indexada por una tupla de enteros no negativos. El número de dimensiones es el rango de la matriz; la forma de una matriz es una tupla de números enteros que dan el tamaño de la matriz a lo largo de cada dimensión. "
   ]
  },
  {
   "cell_type": "code",
   "execution_count": 1,
   "id": "b049a1f1",
   "metadata": {},
   "outputs": [],
   "source": [
    "import numpy as np"
   ]
  },
  {
   "cell_type": "code",
   "execution_count": 2,
   "id": "f7399318",
   "metadata": {},
   "outputs": [],
   "source": [
    "### Create a 3x1 numpy array\n",
    "a = np.array([1,2,3])"
   ]
  },
  {
   "cell_type": "code",
   "execution_count": 3,
   "id": "27559bbb",
   "metadata": {},
   "outputs": [
    {
     "name": "stdout",
     "output_type": "stream",
     "text": [
      "a \t\t: [1 2 3]\n",
      "Type of 'a' is \t: <class 'numpy.ndarray'>\n"
     ]
    }
   ],
   "source": [
    "print('a \\t\\t:', a)\n",
    "### Print object type\n",
    "print(\"Type of 'a' is \\t:\", type(a))"
   ]
  },
  {
   "cell_type": "code",
   "execution_count": 4,
   "id": "31f563b4",
   "metadata": {},
   "outputs": [
    {
     "name": "stdout",
     "output_type": "stream",
     "text": [
      "Shape of 'a' is \t: (3,)\n"
     ]
    }
   ],
   "source": [
    "### Print shape\n",
    "print(\"Shape of 'a' is \\t:\",a.shape)"
   ]
  },
  {
   "cell_type": "code",
   "execution_count": 5,
   "id": "212e3ebc",
   "metadata": {},
   "outputs": [
    {
     "name": "stdout",
     "output_type": "stream",
     "text": [
      "(3,)\n"
     ]
    }
   ],
   "source": [
    "#alternative\n",
    "### Print shape\n",
    "print(np.shape(a))"
   ]
  },
  {
   "cell_type": "code",
   "execution_count": 6,
   "id": "5b6cbf34",
   "metadata": {},
   "outputs": [
    {
     "name": "stdout",
     "output_type": "stream",
     "text": [
      "1 2 3\n"
     ]
    }
   ],
   "source": [
    "### Print some values in a\n",
    "print(a[0], a[1], a[2])"
   ]
  },
  {
   "cell_type": "code",
   "execution_count": 7,
   "id": "44fe393f",
   "metadata": {},
   "outputs": [
    {
     "name": "stdout",
     "output_type": "stream",
     "text": [
      "[[1 2]\n",
      " [3 4]]\n"
     ]
    }
   ],
   "source": [
    "### Create a 2x2 numpy array\n",
    "b = np.array([[1,2],[3,4]])\n",
    "\n",
    "### Print shape\n",
    "print(b)"
   ]
  },
  {
   "cell_type": "code",
   "execution_count": 8,
   "id": "5be437cc",
   "metadata": {},
   "outputs": [
    {
     "name": "stdout",
     "output_type": "stream",
     "text": [
      "(2, 2)\n"
     ]
    }
   ],
   "source": [
    "print(b.shape)"
   ]
  },
  {
   "cell_type": "code",
   "execution_count": 9,
   "id": "8ce2fec9",
   "metadata": {},
   "outputs": [
    {
     "name": "stdout",
     "output_type": "stream",
     "text": [
      "1 2 4\n"
     ]
    }
   ],
   "source": [
    "## Print some values in b\n",
    "print(b[0,0], b[0,1], b[1,1])"
   ]
  },
  {
   "cell_type": "code",
   "execution_count": 10,
   "id": "c7059726",
   "metadata": {},
   "outputs": [
    {
     "name": "stdout",
     "output_type": "stream",
     "text": [
      "(3, 2)\n",
      "2 3 5 6\n",
      "[[1 2]\n",
      " [3 4]\n",
      " [5 6]]\n"
     ]
    }
   ],
   "source": [
    "### Create a 3x2 numpy array\n",
    "c = np.array([[1,2],[3,4],[5,6]])\n",
    "\n",
    "### Print shape\n",
    "print(c.shape)\n",
    "\n",
    "### Print some values in c\n",
    "print(c[0,1], c[1,0], c[2,0], c[2,1])\n",
    "\n",
    "print(c)"
   ]
  },
  {
   "cell_type": "code",
   "execution_count": 11,
   "id": "e6cb191f",
   "metadata": {},
   "outputs": [
    {
     "name": "stdout",
     "output_type": "stream",
     "text": [
      "The zero 2x3 matrix d is: \n",
      " [[0. 0. 0.]\n",
      " [0. 0. 0.]]\n"
     ]
    }
   ],
   "source": [
    "### 2x3 zero array \n",
    "d = np.zeros((2,3))\n",
    "\n",
    "print('The zero 2x3 matrix d is: \\n', d)\n"
   ]
  },
  {
   "cell_type": "code",
   "execution_count": 12,
   "id": "d9c09a0e",
   "metadata": {},
   "outputs": [
    {
     "name": "stdout",
     "output_type": "stream",
     "text": [
      "The ones 4x2 matrix is: \n",
      " [[1. 1.]\n",
      " [1. 1.]\n",
      " [1. 1.]\n",
      " [1. 1.]]\n"
     ]
    }
   ],
   "source": [
    "### 4x2 array of ones\n",
    "e = np.ones((4,2))\n",
    "\n",
    "print('The ones 4x2 matrix is: \\n', e)"
   ]
  },
  {
   "cell_type": "code",
   "execution_count": 13,
   "id": "1d83c7d5",
   "metadata": {},
   "outputs": [
    {
     "name": "stdout",
     "output_type": "stream",
     "text": [
      "The full constant matrix is: \n",
      " [[9 9]\n",
      " [9 9]]\n"
     ]
    }
   ],
   "source": [
    "### 2x2 constant array\n",
    "f = np.full((2,2), 9)\n",
    "\n",
    "print('The full constant matrix is: \\n', f)"
   ]
  },
  {
   "cell_type": "code",
   "execution_count": 14,
   "id": "23f29805",
   "metadata": {},
   "outputs": [
    {
     "name": "stdout",
     "output_type": "stream",
     "text": [
      "The random 3x3 matrix is: \n",
      " [[0.37281238 0.57563743 0.83596165]\n",
      " [0.2773645  0.16795341 0.71230513]\n",
      " [0.73057496 0.44357688 0.30678661]]\n"
     ]
    }
   ],
   "source": [
    "### 3x3 random array\n",
    "g = np.random.random((3,3))\n",
    "\n",
    "print('The random 3x3 matrix is: \\n', g)"
   ]
  },
  {
   "cell_type": "markdown",
   "id": "5a2485a8",
   "metadata": {},
   "source": [
    "#### 2. Array Indexing"
   ]
  },
  {
   "cell_type": "code",
   "execution_count": 15,
   "id": "4cf084da",
   "metadata": {},
   "outputs": [
    {
     "name": "stdout",
     "output_type": "stream",
     "text": [
      "Array 'h' is: \n",
      " [[ 1  2  3  4]\n",
      " [ 5  6  7  8]\n",
      " [ 9 10 11 12]]\n"
     ]
    }
   ],
   "source": [
    "### Create 3x4 array\n",
    "h = np.array([[1,2,3,4,], [5,6,7,8], [9,10,11,12]])\n",
    "\n",
    "print('Array \\'h\\' is: \\n', h)\n"
   ]
  },
  {
   "cell_type": "code",
   "execution_count": 16,
   "id": "d9937ebc",
   "metadata": {},
   "outputs": [
    {
     "name": "stdout",
     "output_type": "stream",
     "text": [
      "The slice is: \n",
      " [[2 3]\n",
      " [6 7]]\n"
     ]
    }
   ],
   "source": [
    "### Slice array to make a 2x2 sub-array\n",
    "i = h[:2, 1:3] # h[row_start: row_end, column_start:column_end]\n",
    "\n",
    "print('The slice is: \\n', i)"
   ]
  },
  {
   "cell_type": "code",
   "execution_count": 17,
   "id": "7fe14cd4",
   "metadata": {},
   "outputs": [
    {
     "name": "stdout",
     "output_type": "stream",
     "text": [
      "2\n",
      "\n",
      "\n",
      " [[2 3]\n",
      " [6 7]]\n",
      "1738\n"
     ]
    }
   ],
   "source": [
    "print(h[0,1])\n",
    "print('\\n\\n', i)\n",
    "### Modify the slice\n",
    "i[0,0] = 1738\n",
    "\n",
    "### Print to show how modifying the slice also changes the base object\n",
    "print(h[0,1])"
   ]
  },
  {
   "cell_type": "code",
   "execution_count": 18,
   "id": "4ab9f66d",
   "metadata": {},
   "outputs": [
    {
     "data": {
      "text/plain": [
       "array([[   1, 1738,    3,    4],\n",
       "       [   5,    6,    7,    8],\n",
       "       [   9,   10,   11,   12]])"
      ]
     },
     "execution_count": 18,
     "metadata": {},
     "output_type": "execute_result"
    }
   ],
   "source": [
    "h"
   ]
  },
  {
   "cell_type": "code",
   "execution_count": 19,
   "id": "30d07e7e",
   "metadata": {},
   "outputs": [
    {
     "data": {
      "text/plain": [
       "array([[1738,    3],\n",
       "       [   6,    7]])"
      ]
     },
     "execution_count": 19,
     "metadata": {},
     "output_type": "execute_result"
    }
   ],
   "source": [
    "i"
   ]
  },
  {
   "cell_type": "markdown",
   "id": "92036a48",
   "metadata": {},
   "source": [
    "#### 3. Datatypes in Arrays"
   ]
  },
  {
   "cell_type": "code",
   "execution_count": 20,
   "id": "54055e0e",
   "metadata": {},
   "outputs": [
    {
     "name": "stdout",
     "output_type": "stream",
     "text": [
      "type(j) : \t  <class 'numpy.ndarray'>\n",
      "j.dtpye : \t  int64\n"
     ]
    }
   ],
   "source": [
    "### Integer\n",
    "j = np.array([1, 2])\n",
    "\n",
    "print('type(j) : \\t ', type(j))\n",
    "print('j.dtpye : \\t ', j.dtype)  \n"
   ]
  },
  {
   "cell_type": "code",
   "execution_count": 21,
   "id": "f072605f",
   "metadata": {},
   "outputs": [
    {
     "name": "stdout",
     "output_type": "stream",
     "text": [
      "type(k) : \t  <class 'numpy.ndarray'>\n",
      "k.dtpye : \t  float64\n"
     ]
    }
   ],
   "source": [
    "### Float\n",
    "k = np.array([1.0, 2.0])\n",
    "\n",
    "print('type(k) : \\t ', type(k))\n",
    "print('k.dtpye : \\t ', k.dtype)       \n"
   ]
  },
  {
   "cell_type": "code",
   "execution_count": 22,
   "id": "19137034",
   "metadata": {},
   "outputs": [
    {
     "name": "stdout",
     "output_type": "stream",
     "text": [
      "type(k) : \t  <class 'numpy.ndarray'>\n",
      "k.dtpye : \t  float64\n"
     ]
    }
   ],
   "source": [
    "### Float\n",
    "k = np.array([1.0, 2])\n",
    "\n",
    "print('type(k) : \\t ', type(k))\n",
    "print('k.dtpye : \\t ', k.dtype) "
   ]
  },
  {
   "cell_type": "code",
   "execution_count": 23,
   "id": "816757aa",
   "metadata": {},
   "outputs": [
    {
     "name": "stdout",
     "output_type": "stream",
     "text": [
      "type(l) : \t  <class 'numpy.ndarray'>\n",
      "l.dtpye : \t  int64\n"
     ]
    }
   ],
   "source": [
    "### Force Data Type\n",
    "l = np.array([1.0, 2], dtype=np.int64)\n",
    "\n",
    "print('type(l) : \\t ', type(l))\n",
    "print('l.dtpye : \\t ', l.dtype) "
   ]
  },
  {
   "cell_type": "markdown",
   "id": "05bad82a",
   "metadata": {},
   "source": [
    "#### 4. Array Math\n",
    "\n",
    "Basic mathematical functions operate elementwise on arrays, and are available both as operator overloads and as functions in the numpy module:"
   ]
  },
  {
   "cell_type": "code",
   "execution_count": 24,
   "id": "09751597",
   "metadata": {},
   "outputs": [
    {
     "name": "stdout",
     "output_type": "stream",
     "text": [
      "x is \n",
      " [[1. 2.]\n",
      " [3. 4.]] \n",
      "\n",
      " y is \n",
      " [[5. 6.]\n",
      " [7. 8.]]\n"
     ]
    }
   ],
   "source": [
    "x = np.array([[1,2],[3,4]], dtype=np.float64)\n",
    "y = np.array([[5,6],[7,8]], dtype=np.float64)\n",
    "\n",
    "# Elementwise sum; both produce the array\n",
    "# [[ 6.0  8.0]\n",
    "#  [10.0 12.0]]\n",
    "print('x is \\n {} \\n\\n y is \\n {}'.format(x, y))"
   ]
  },
  {
   "cell_type": "code",
   "execution_count": 25,
   "id": "c33a11ca",
   "metadata": {},
   "outputs": [
    {
     "name": "stdout",
     "output_type": "stream",
     "text": [
      "sum of matrices \n",
      " [[1. 2.]\n",
      " [3. 4.]] and \n",
      " [[5. 6.]\n",
      " [7. 8.]] is : \n",
      " [[ 6.  8.]\n",
      " [10. 12.]] \n",
      "[[ 6.  8.]\n",
      " [10. 12.]]\n"
     ]
    }
   ],
   "source": [
    "print('sum of matrices \\n {} and \\n {} is : \\n {} '.format(x, y, x + y))\n",
    "print(np.add(x, y))"
   ]
  },
  {
   "cell_type": "code",
   "execution_count": 26,
   "id": "e08f0394",
   "metadata": {},
   "outputs": [
    {
     "name": "stdout",
     "output_type": "stream",
     "text": [
      "checking equality with comparison:\n",
      " [[ True  True]\n",
      " [ True  True]]\n"
     ]
    }
   ],
   "source": [
    "comparison = x+y == np.add(x,y)\n",
    "\n",
    "print('checking equality with comparison:\\n', comparison)"
   ]
  },
  {
   "cell_type": "code",
   "execution_count": 27,
   "id": "8c8d22ec",
   "metadata": {},
   "outputs": [
    {
     "name": "stdout",
     "output_type": "stream",
     "text": [
      "checking equality with array_equal:\t True\n"
     ]
    }
   ],
   "source": [
    "print('checking equality with array_equal:\\t', np.array_equal(x+y, np.add(x,y)))"
   ]
  },
  {
   "cell_type": "code",
   "execution_count": 28,
   "id": "10aaa356",
   "metadata": {},
   "outputs": [
    {
     "name": "stdout",
     "output_type": "stream",
     "text": [
      "[[-4. -4.]\n",
      " [-4. -4.]]\n",
      "[[-4. -4.]\n",
      " [-4. -4.]]\n",
      "True\n"
     ]
    }
   ],
   "source": [
    "# Elementwise difference; both produce the array\n",
    "# [[-4.0 -4.0]\n",
    "#  [-4.0 -4.0]]\n",
    "print(x - y)\n",
    "print(np.subtract(x, y))\n",
    "print(np.array_equal(x-y, np.subtract(x,y)))"
   ]
  },
  {
   "cell_type": "code",
   "execution_count": 29,
   "id": "02aca53c",
   "metadata": {},
   "outputs": [
    {
     "name": "stdout",
     "output_type": "stream",
     "text": [
      "[[ 5. 12.]\n",
      " [21. 32.]]\n",
      "[[ 5. 12.]\n",
      " [21. 32.]]\n",
      "[[ True  True]\n",
      " [ True  True]]\n"
     ]
    }
   ],
   "source": [
    "# Elementwise product; both produce the array\n",
    "# [[ 5.0 12.0]\n",
    "#  [21.0 32.0]]\n",
    "print(x * y)\n",
    "print(np.multiply(x, y))\n",
    "\n",
    "compare = x*y ==np.multiply(x,y)\n",
    "print(compare)"
   ]
  },
  {
   "cell_type": "code",
   "execution_count": 30,
   "id": "645fb3f0",
   "metadata": {},
   "outputs": [
    {
     "name": "stdout",
     "output_type": "stream",
     "text": [
      "[[0.2        0.33333333]\n",
      " [0.42857143 0.5       ]]\n",
      "[[0.2        0.33333333]\n",
      " [0.42857143 0.5       ]]\n",
      "True\n"
     ]
    }
   ],
   "source": [
    "# Elementwise division; both produce the array\n",
    "# [[ 0.2         0.33333333]\n",
    "#  [ 0.42857143  0.5       ]]\n",
    "print(x / y)\n",
    "print(np.divide(x, y))\n",
    "\n",
    "\n",
    "print(np.array_equal(x/y, np.divide(x,y)))"
   ]
  },
  {
   "cell_type": "code",
   "execution_count": 31,
   "id": "b68b5463",
   "metadata": {},
   "outputs": [
    {
     "name": "stdout",
     "output_type": "stream",
     "text": [
      "[[1.         1.41421356]\n",
      " [1.73205081 2.        ]]\n"
     ]
    }
   ],
   "source": [
    "# Elementwise square root; produces the array\n",
    "# [[ 1.          1.41421356]\n",
    "#  [ 1.73205081  2.        ]]\n",
    "print(np.sqrt(x))"
   ]
  },
  {
   "cell_type": "code",
   "execution_count": 32,
   "id": "ac8c2b0b",
   "metadata": {},
   "outputs": [
    {
     "name": "stdout",
     "output_type": "stream",
     "text": [
      "10\n"
     ]
    }
   ],
   "source": [
    "x = np.array([[1,2],[3,4]])\n",
    "\n",
    "### Compute sum of all elements; prints \"10\"\n",
    "print(np.sum(x))"
   ]
  },
  {
   "cell_type": "code",
   "execution_count": 33,
   "id": "80058256",
   "metadata": {},
   "outputs": [
    {
     "name": "stdout",
     "output_type": "stream",
     "text": [
      "[4 6]\n"
     ]
    }
   ],
   "source": [
    "### Compute sum of each column; prints \"[4 6]\"\n",
    "print(np.sum(x, axis=0)) \n"
   ]
  },
  {
   "cell_type": "code",
   "execution_count": 34,
   "id": "59cca293",
   "metadata": {},
   "outputs": [
    {
     "name": "stdout",
     "output_type": "stream",
     "text": [
      "[3 7]\n"
     ]
    }
   ],
   "source": [
    "\n",
    "### Compute sum of each row; prints \"[3 7]\"\n",
    "print(np.sum(x, axis=1))"
   ]
  },
  {
   "cell_type": "code",
   "execution_count": 35,
   "id": "57b92f61",
   "metadata": {},
   "outputs": [
    {
     "name": "stdout",
     "output_type": "stream",
     "text": [
      "2.5\n",
      "[2. 3.]\n",
      "[1.5 3.5]\n"
     ]
    }
   ],
   "source": [
    "x = np.array([[1,2],[3,4]])\n",
    "\n",
    "### Compute mean of all elements; prints \"2.5\"\n",
    "print(np.mean(x))\n",
    "\n",
    "### Compute mean of each column; prints \"[2 3]\"\n",
    "print(np.mean(x, axis=0)) \n",
    "\n",
    "### Compute mean of each row; prints \"[1.5 3.5]\"\n",
    "print(np.mean(x, axis=1))"
   ]
  },
  {
   "cell_type": "markdown",
   "id": "6bd1d93d",
   "metadata": {},
   "source": [
    "## SciPy\n",
    "\n",
    "`Numpy` proporciona una matriz multidimensional de alto rendimiento y herramientas básicas para calcular y manipular estas matrices. \n",
    "\n",
    "`SciPy` se basa en `Numpy` y proporciona una gran cantidad de funciones que operan en matrices numerosas y son útiles para diferentes tipos de aplicaciones científicas y de ingeniería.\n",
    "\n",
    "Para este curso, usaremos principalmente la sub-biblioteca `SciPy.Stats`.\n",
    "\n",
    "### SciPy.Stats\n",
    "\n",
    "El módulo `SciPy.Stats` contiene una gran cantidad de distribuciones de probabilidad, así como una biblioteca cada vez mayor de funciones estadísticas como:\n",
    "\n",
    "* Distribuciones continuas y discretas (es decir, normal, uniforme, binomial, etc.)\n",
    "\n",
    "* Estadísticas descriptivas\n",
    "\n",
    "* Pruebas estadísticas (es decir, prueba T)"
   ]
  },
  {
   "cell_type": "code",
   "execution_count": 36,
   "id": "0cef5c99",
   "metadata": {},
   "outputs": [
    {
     "name": "stdout",
     "output_type": "stream",
     "text": [
      "[-1.7748385   1.59542226  1.81404841 -0.12376149  0.33066279 -1.28012189\n",
      "  0.94945345  1.83312624 -0.01193546  1.21254623]\n"
     ]
    }
   ],
   "source": [
    "import numpy as np\n",
    "from scipy import stats\n",
    "\n",
    "\n",
    "### Print Normal Random Variables\n",
    "print(stats.norm.rvs(size = 10))"
   ]
  },
  {
   "cell_type": "markdown",
   "id": "9562b23f",
   "metadata": {},
   "source": [
    "*  `numpy.arange([start, ]stop, [step, ]dtype=None)`\n",
    "\n",
    "*  `[start, ]` is optional (default = 0)\n",
    "\n",
    "*  `[step, ]` is optional (default = 1)"
   ]
  },
  {
   "cell_type": "code",
   "execution_count": 37,
   "id": "aa190a01",
   "metadata": {},
   "outputs": [
    {
     "name": "stdout",
     "output_type": "stream",
     "text": [
      "[4 5 6 7 8 9]\n"
     ]
    }
   ],
   "source": [
    "print(np.arange(4, 10))"
   ]
  },
  {
   "cell_type": "code",
   "execution_count": 38,
   "id": "ae1a8d40",
   "metadata": {},
   "outputs": [
    {
     "name": "stdout",
     "output_type": "stream",
     "text": [
      "[ 4  7 10 13 16 19 22 25 28 31 34 37 40 43 46 49]\n"
     ]
    }
   ],
   "source": [
    "print(np.arange(4, 50, 3))"
   ]
  },
  {
   "cell_type": "code",
   "execution_count": 39,
   "id": "4e0326fd",
   "metadata": {},
   "outputs": [
    {
     "name": "stdout",
     "output_type": "stream",
     "text": [
      "Arrange method:\n",
      " [[0 1 2]\n",
      " [3 4 5]] \n",
      "\n"
     ]
    }
   ],
   "source": [
    "print(\"Arrange method:\\n\", np.arange(6).reshape(2, 3), \"\\n\")"
   ]
  },
  {
   "cell_type": "code",
   "execution_count": 40,
   "id": "71006f4d",
   "metadata": {},
   "outputs": [
    {
     "data": {
      "text/plain": [
       "array([[1, 2, 3],\n",
       "       [4, 5, 6]])"
      ]
     },
     "execution_count": 40,
     "metadata": {},
     "output_type": "execute_result"
    }
   ],
   "source": [
    "a = np.array([[1,2,3], [4,5,6]])\n",
    "a\n"
   ]
  },
  {
   "cell_type": "code",
   "execution_count": 41,
   "id": "1b869cf9",
   "metadata": {},
   "outputs": [
    {
     "data": {
      "text/plain": [
       "array([1, 2, 3, 4, 5, 6])"
      ]
     },
     "execution_count": 41,
     "metadata": {},
     "output_type": "execute_result"
    }
   ],
   "source": [
    "np.reshape(a, 6)"
   ]
  },
  {
   "cell_type": "code",
   "execution_count": 42,
   "id": "a3cb9bf9",
   "metadata": {},
   "outputs": [
    {
     "data": {
      "text/plain": [
       "array([1, 4, 2, 5, 3, 6])"
      ]
     },
     "execution_count": 42,
     "metadata": {},
     "output_type": "execute_result"
    }
   ],
   "source": [
    "np.reshape(a, 6, order='F') # Fortran-like index ordering\n"
   ]
  },
  {
   "cell_type": "code",
   "execution_count": 43,
   "id": "a47fcd81",
   "metadata": {},
   "outputs": [
    {
     "data": {
      "text/plain": [
       "array([[1, 2],\n",
       "       [3, 4],\n",
       "       [5, 6]])"
      ]
     },
     "execution_count": 43,
     "metadata": {},
     "output_type": "execute_result"
    }
   ],
   "source": [
    "np.reshape(a, (3,2))"
   ]
  },
  {
   "cell_type": "code",
   "execution_count": 44,
   "id": "1754f727",
   "metadata": {},
   "outputs": [
    {
     "data": {
      "text/plain": [
       "array([[1, 2, 3],\n",
       "       [4, 5, 6]])"
      ]
     },
     "execution_count": 44,
     "metadata": {},
     "output_type": "execute_result"
    }
   ],
   "source": [
    "np.reshape(a, (2,3))"
   ]
  },
  {
   "cell_type": "code",
   "execution_count": 45,
   "id": "be725c93",
   "metadata": {},
   "outputs": [
    {
     "data": {
      "text/plain": [
       "4.0"
      ]
     },
     "execution_count": 45,
     "metadata": {},
     "output_type": "execute_result"
    }
   ],
   "source": [
    "x = 12\n",
    "x /= 3    ##  x = x/3\n",
    "x        "
   ]
  },
  {
   "cell_type": "code",
   "execution_count": 46,
   "id": "0dbc5533",
   "metadata": {},
   "outputs": [
    {
     "data": {
      "text/plain": [
       "array([[1, 2, 3],\n",
       "       [4, 5, 6]])"
      ]
     },
     "execution_count": 46,
     "metadata": {},
     "output_type": "execute_result"
    }
   ],
   "source": [
    "a = np.array([[1,2,3], [4,5,6]])\n",
    "a"
   ]
  },
  {
   "cell_type": "code",
   "execution_count": 47,
   "id": "d3c74353",
   "metadata": {},
   "outputs": [
    {
     "data": {
      "text/plain": [
       "array([ 1,  3,  6, 10, 15, 21])"
      ]
     },
     "execution_count": 47,
     "metadata": {},
     "output_type": "execute_result"
    }
   ],
   "source": [
    "np.cumsum(a)"
   ]
  },
  {
   "cell_type": "code",
   "execution_count": 48,
   "id": "9174458c",
   "metadata": {},
   "outputs": [
    {
     "data": {
      "text/plain": [
       "array([ 1.,  3.,  6., 10., 15., 21.])"
      ]
     },
     "execution_count": 48,
     "metadata": {},
     "output_type": "execute_result"
    }
   ],
   "source": [
    "np.cumsum(a, dtype=float)     # specifies type of output value(s)"
   ]
  },
  {
   "cell_type": "code",
   "execution_count": 49,
   "id": "5af644f5",
   "metadata": {},
   "outputs": [
    {
     "data": {
      "text/plain": [
       "array([[1, 2, 3],\n",
       "       [5, 7, 9]])"
      ]
     },
     "execution_count": 49,
     "metadata": {},
     "output_type": "execute_result"
    }
   ],
   "source": [
    "np.cumsum(a,axis=0)      # sum over rows for each of the 3 COLUMNS"
   ]
  },
  {
   "cell_type": "code",
   "execution_count": 50,
   "id": "d2aa2fc3",
   "metadata": {},
   "outputs": [
    {
     "data": {
      "text/plain": [
       "array([[ 1,  3,  6],\n",
       "       [ 4,  9, 15]])"
      ]
     },
     "execution_count": 50,
     "metadata": {},
     "output_type": "execute_result"
    }
   ],
   "source": [
    "np.cumsum(a,axis=1)      # sum over columns for each of the 2 ROWS"
   ]
  },
  {
   "cell_type": "markdown",
   "id": "177c5463",
   "metadata": {},
   "source": [
    "#### [Normal (Gaussian) Distribution](https://www.probabilitycourse.com/chapter4/4_2_3_normal.php)\n",
    "\n",
    "\n"
   ]
  },
  {
   "cell_type": "code",
   "execution_count": 43,
   "id": "18131082",
   "metadata": {},
   "outputs": [
    {
     "data": {
      "image/png": "[encoded data removed]",
      "text/plain": [
       "<Figure size 432x288 with 1 Axes>"
      ]
     },
     "metadata": {
      "needs_background": "light"
     },
     "output_type": "display_data"
    }
   ],
   "source": [
    "from pylab import *  # * importing all ( = import pylab)\n",
    "\n",
    "# Create some test data\n",
    "dx = .01\n",
    "\n",
    "X  = np.arange(-2,2,dx)\n",
    "Y  = exp(-X**2)\n",
    "\n",
    "# Normalize the data to a proper PDF (probability density funcion )\n",
    "Y /= (dx*Y).sum()\n",
    "\n",
    "# Compute the CDF (cumulative distrubution funcion)\n",
    "CY = np.cumsum(Y*dx)\n",
    "\n",
    "# Plot both\n",
    "plot(X,Y)\n",
    "\n",
    "\n",
    "show()"
   ]
  },
  {
   "cell_type": "code",
   "execution_count": 44,
   "id": "ac2b9a8a",
   "metadata": {},
   "outputs": [
    {
     "data": {
      "image/png": "[encoded data removed]",
      "text/plain": [
       "<Figure size 432x288 with 1 Axes>"
      ]
     },
     "metadata": {
      "needs_background": "light"
     },
     "output_type": "display_data"
    }
   ],
   "source": [
    "plot(X,CY,'r--')\n",
    "show()"
   ]
  },
  {
   "cell_type": "code",
   "execution_count": 49,
   "id": "b8055047",
   "metadata": {},
   "outputs": [
    {
     "data": {
      "image/png": "[encoded data removed]",
      "text/plain": [
       "<Figure size 432x288 with 1 Axes>"
      ]
     },
     "metadata": {
      "needs_background": "light"
     },
     "output_type": "display_data"
    }
   ],
   "source": [
    "plot(X,Y, 'y')\n",
    "plot(X, CY, 'g--')\n",
    "show()"
   ]
  },
  {
   "cell_type": "code",
   "execution_count": 57,
   "id": "f54e8b99",
   "metadata": {
    "scrolled": true
   },
   "outputs": [
    {
     "name": "stdout",
     "output_type": "stream",
     "text": [
      "[0.02275013 0.15865525 0.30853754 0.5        0.84134475 0.9986501\n",
      " 0.99996833 0.97724987 1.        ]\n"
     ]
    }
   ],
   "source": [
    "### Compute the Normal CDF of certain values.\n",
    "print(stats.norm.cdf(np.array([-2, -1., -0.5, 0, 1, 3, 4, 2, 6])))"
   ]
  },
  {
   "cell_type": "code",
   "execution_count": null,
   "id": "c555b59a",
   "metadata": {},
   "outputs": [],
   "source": []
  }
 ],
 "metadata": {
  "kernelspec": {
   "display_name": "Python 3 (ipykernel)",
   "language": "python",
   "name": "python3"
  },
  "language_info": {
   "codemirror_mode": {
    "name": "ipython",
    "version": 3
   },
   "file_extension": ".py",
   "mimetype": "text/x-python",
   "name": "python",
   "nbconvert_exporter": "python",
   "pygments_lexer": "ipython3",
   "version": "3.9.5"
  }
 },
 "nbformat": 4,
 "nbformat_minor": 5
}
