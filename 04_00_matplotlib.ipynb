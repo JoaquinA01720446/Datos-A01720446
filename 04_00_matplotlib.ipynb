{
 "cells": [
  {
   "cell_type": "markdown",
   "id": "442bb544",
   "metadata": {},
   "source": [
    "# Bibliotecas de Python\n",
    "\n",
    "Para este tutorial, describiremos los usos más comunes de cada una de las siguientes bibliotecas:\n",
    "\n",
    "* **Numpy** es una biblioteca para trabajar con matrices de datos.\n",
    "\n",
    "* **Scipy** es una biblioteca de técnicas de computación numérica y científica.\n",
    "\n",
    "* **Matplotlib** es una biblioteca para realizar visualizaciones.\n",
    "\n",
    "* **Seaborn** es una interfaz de nivel superior para Matplotlib que se puede utilizar para simplificar muchas tareas de visualización.\n",
    " \n",
    "\n",
    "\n",
    "## NumPy\n",
    "\n",
    "NumPy es el paquete fundamental para la informática científica con Python. Contiene entre otras cosas:\n",
    "\n",
    "* un poderoso objeto de matriz N-dimensional\n",
    "* funciones sofisticadas (de radiodifusión)\n",
    "* herramientas para integrar código C / C ++ y Fortran\n",
    "* Álgebra lineal útil, transformada de Fourier y capacidades de números aleatorios\n",
    "\n",
    "Nos centraremos en el objeto de matriz numpy.\n",
    "\n",
    "### 1. Numpy Array\n",
    "\n",
    "Una matriz numpy es una cuadrícula de valores, todos del mismo tipo, y está indexada por una tupla de enteros no negativos. El número de dimensiones es el rango de la matriz; la forma de una matriz es una tupla de números enteros que dan el tamaño de la matriz a lo largo de cada dimensión. "
   ]
  },
  {
   "cell_type": "code",
   "execution_count": null,
   "id": "b049a1f1",
   "metadata": {},
   "outputs": [],
   "source": [
    "import numpy as np"
   ]
  },
  {
   "cell_type": "code",
   "execution_count": null,
   "id": "f7399318",
   "metadata": {},
   "outputs": [],
   "source": [
    "### Create a 3x1 numpy array\n",
    "a = np.array([1,2,3])"
   ]
  },
  {
   "cell_type": "code",
   "execution_count": null,
   "id": "27559bbb",
   "metadata": {},
   "outputs": [],
   "source": [
    "print('a \\t\\t:', a)\n",
    "### Print object type\n",
    "print(\"Type of 'a' is \\t:\", type(a))"
   ]
  },
  {
   "cell_type": "code",
   "execution_count": null,
   "id": "31f563b4",
   "metadata": {},
   "outputs": [],
   "source": [
    "### Print shape\n",
    "print(\"Shape of 'a' is \\t:\",a.shape)"
   ]
  },
  {
   "cell_type": "code",
   "execution_count": null,
   "id": "212e3ebc",
   "metadata": {},
   "outputs": [],
   "source": [
    "#alternative\n",
    "### Print shape\n",
    "print(np.shape(a))"
   ]
  },
  {
   "cell_type": "code",
   "execution_count": null,
   "id": "5b6cbf34",
   "metadata": {},
   "outputs": [],
   "source": [
    "### Print some values in a\n",
    "print(a[0], a[1], a[2])"
   ]
  },
  {
   "cell_type": "code",
   "execution_count": null,
   "id": "44fe393f",
   "metadata": {},
   "outputs": [],
   "source": [
    "### Create a 2x2 numpy array\n",
    "b = np.array([[1,2],[3,4]])\n",
    "\n",
    "### Print shape\n",
    "print(b)"
   ]
  },
  {
   "cell_type": "code",
   "execution_count": null,
   "id": "6cc99a1f",
   "metadata": {},
   "outputs": [],
   "source": [
    "print(b.shape)"
   ]
  },
  {
   "cell_type": "code",
   "execution_count": null,
   "id": "8ce2fec9",
   "metadata": {},
   "outputs": [],
   "source": [
    "## Print some values in b\n",
    "print(b[0,0], b[0,1], b[1,1])"
   ]
  },
  {
   "cell_type": "code",
   "execution_count": null,
   "id": "c7059726",
   "metadata": {},
   "outputs": [],
   "source": [
    "### Create a 3x2 numpy array\n",
    "c = np.array([[1,2],[3,4],[5,6]])\n",
    "\n",
    "### Print shape\n",
    "print(c.shape)\n",
    "\n",
    "### Print some values in c\n",
    "print(c[0,1], c[1,0], c[2,0], c[2,1])\n",
    "\n",
    "print(c)"
   ]
  },
  {
   "cell_type": "code",
   "execution_count": null,
   "id": "e6cb191f",
   "metadata": {},
   "outputs": [],
   "source": [
    "### 2x3 zero array \n",
    "d = np.zeros((2,3))\n",
    "\n",
    "print('The zero 2x3 matrix d is: \\n', d)\n"
   ]
  },
  {
   "cell_type": "code",
   "execution_count": null,
   "id": "d9c09a0e",
   "metadata": {},
   "outputs": [],
   "source": [
    "### 4x2 array of ones\n",
    "e = np.ones((4,2))\n",
    "\n",
    "print('The ones 4x2 matrix is: \\n', e)"
   ]
  },
  {
   "cell_type": "code",
   "execution_count": null,
   "id": "1d83c7d5",
   "metadata": {},
   "outputs": [],
   "source": [
    "### 2x2 constant array\n",
    "f = np.full((2,2), 9)\n",
    "\n",
    "print('The full constant matrix is: \\n', f)"
   ]
  },
  {
   "cell_type": "code",
   "execution_count": null,
   "id": "23f29805",
   "metadata": {},
   "outputs": [],
   "source": [
    "### 3x3 random array\n",
    "g = np.random.random((3,3))\n",
    "\n",
    "print('The random 3x3 matrix is: \\n', g)"
   ]
  },
  {
   "cell_type": "markdown",
   "id": "5a2485a8",
   "metadata": {},
   "source": [
    "#### 2. Array Indexing"
   ]
  },
  {
   "cell_type": "code",
   "execution_count": null,
   "id": "4cf084da",
   "metadata": {},
   "outputs": [],
   "source": [
    "### Create 3x4 array\n",
    "h = np.array([[1,2,3,4,], [5,6,7,8], [9,10,11,12]])\n",
    "\n",
    "print('Array \\'h\\' is: \\n', h)\n"
   ]
  },
  {
   "cell_type": "code",
   "execution_count": null,
   "id": "cd22912d",
   "metadata": {},
   "outputs": [],
   "source": [
    "### Slice array to make a 2x2 sub-array\n",
    "i = h[:2, 1:3] # h[row_start: row_end, column_start:column_end]\n",
    "\n",
    "print('The slice is: \\n', i)"
   ]
  },
  {
   "cell_type": "code",
   "execution_count": null,
   "id": "7fe14cd4",
   "metadata": {},
   "outputs": [],
   "source": [
    "print(h[0,1])\n",
    "print('\\n\\n', i)\n",
    "### Modify the slice\n",
    "i[0,0] = 1738\n",
    "\n",
    "### Print to show how modifying the slice also changes the base object\n",
    "print(h[0,1])"
   ]
  },
  {
   "cell_type": "code",
   "execution_count": null,
   "id": "4ab9f66d",
   "metadata": {},
   "outputs": [],
   "source": [
    "h"
   ]
  },
  {
   "cell_type": "code",
   "execution_count": null,
   "id": "30d07e7e",
   "metadata": {},
   "outputs": [],
   "source": [
    "i"
   ]
  },
  {
   "cell_type": "markdown",
   "id": "92036a48",
   "metadata": {},
   "source": [
    "#### 3. Datatypes in Arrays"
   ]
  },
  {
   "cell_type": "code",
   "execution_count": null,
   "id": "54055e0e",
   "metadata": {},
   "outputs": [],
   "source": [
    "### Integer\n",
    "j = np.array([1, 2])\n",
    "\n",
    "print('type(j) : \\t ', type(j))\n",
    "print('j.dtpye : \\t ', j.dtype)  \n"
   ]
  },
  {
   "cell_type": "code",
   "execution_count": null,
   "id": "f072605f",
   "metadata": {},
   "outputs": [],
   "source": [
    "### Float\n",
    "k = np.array([1.0, 2.0])\n",
    "\n",
    "print('type(k) : \\t ', type(k))\n",
    "print('k.dtpye : \\t ', k.dtype)       \n"
   ]
  },
  {
   "cell_type": "code",
   "execution_count": null,
   "id": "19137034",
   "metadata": {},
   "outputs": [],
   "source": [
    "### Float\n",
    "k = np.array([1.0, 2])\n",
    "\n",
    "print('type(k) : \\t ', type(k))\n",
    "print('k.dtpye : \\t ', k.dtype) "
   ]
  },
  {
   "cell_type": "code",
   "execution_count": null,
   "id": "816757aa",
   "metadata": {},
   "outputs": [],
   "source": [
    "### Force Data Type\n",
    "l = np.array([1.0, 2], dtype=np.int64)\n",
    "\n",
    "print('type(l) : \\t ', type(l))\n",
    "print('l.dtpye : \\t ', l.dtype) "
   ]
  },
  {
   "cell_type": "markdown",
   "id": "05bad82a",
   "metadata": {},
   "source": [
    "#### 4. Array Math\n",
    "\n",
    "Basic mathematical functions operate elementwise on arrays, and are available both as operator overloads and as functions in the numpy module:"
   ]
  },
  {
   "cell_type": "code",
   "execution_count": null,
   "id": "09751597",
   "metadata": {},
   "outputs": [],
   "source": [
    "x = np.array([[1,2],[3,4]], dtype=np.float64)\n",
    "y = np.array([[5,6],[7,8]], dtype=np.float64)\n",
    "\n",
    "# Elementwise sum; both produce the array\n",
    "# [[ 6.0  8.0]\n",
    "#  [10.0 12.0]]\n",
    "print('x is \\n {} \\n\\n y is \\n {}'.format(x, y))"
   ]
  },
  {
   "cell_type": "code",
   "execution_count": null,
   "id": "2c9d4a71",
   "metadata": {},
   "outputs": [],
   "source": [
    "print('sum of matrices \\n {} and \\n {} is : \\n {} '.format(x, y, x + y))\n",
    "print(np.add(x, y))"
   ]
  },
  {
   "cell_type": "code",
   "execution_count": null,
   "id": "d2d6f8e4",
   "metadata": {},
   "outputs": [],
   "source": [
    "comparison = x+y == np.add(x,y)\n",
    "\n",
    "print('checking equality with comparison:\\n', comparison)"
   ]
  },
  {
   "cell_type": "code",
   "execution_count": null,
   "id": "caba89da",
   "metadata": {},
   "outputs": [],
   "source": [
    "print('checking equality with array_equal:\\t', np.array_equal(x+y, np.add(x,y)))"
   ]
  },
  {
   "cell_type": "code",
   "execution_count": null,
   "id": "10aaa356",
   "metadata": {},
   "outputs": [],
   "source": [
    "# Elementwise difference; both produce the array\n",
    "# [[-4.0 -4.0]\n",
    "#  [-4.0 -4.0]]\n",
    "print(x - y)\n",
    "print(np.subtract(x, y))\n",
    "print(np.array_equal(x-y, np.subtract(x,y)))"
   ]
  },
  {
   "cell_type": "code",
   "execution_count": null,
   "id": "02aca53c",
   "metadata": {},
   "outputs": [],
   "source": [
    "# Elementwise product; both produce the array\n",
    "# [[ 5.0 12.0]\n",
    "#  [21.0 32.0]]\n",
    "print(x * y)\n",
    "print(np.multiply(x, y))\n",
    "\n",
    "compare = x*y ==np.multiply(x,y)\n",
    "print(compare)"
   ]
  },
  {
   "cell_type": "code",
   "execution_count": null,
   "id": "645fb3f0",
   "metadata": {},
   "outputs": [],
   "source": [
    "# Elementwise division; both produce the array\n",
    "# [[ 0.2         0.33333333]\n",
    "#  [ 0.42857143  0.5       ]]\n",
    "print(x / y)\n",
    "print(np.divide(x, y))\n",
    "\n",
    "\n",
    "print(np.array_equal(x/y, np.divide(x,y)))"
   ]
  },
  {
   "cell_type": "code",
   "execution_count": null,
   "id": "b68b5463",
   "metadata": {},
   "outputs": [],
   "source": [
    "# Elementwise square root; produces the array\n",
    "# [[ 1.          1.41421356]\n",
    "#  [ 1.73205081  2.        ]]\n",
    "print(np.sqrt(x))"
   ]
  },
  {
   "cell_type": "code",
   "execution_count": null,
   "id": "ac8c2b0b",
   "metadata": {},
   "outputs": [],
   "source": [
    "x = np.array([[1,2],[3,4]])\n",
    "\n",
    "### Compute sum of all elements; prints \"10\"\n",
    "print(np.sum(x))"
   ]
  },
  {
   "cell_type": "code",
   "execution_count": null,
   "id": "2c5118e8",
   "metadata": {},
   "outputs": [],
   "source": [
    "### Compute sum of each column; prints \"[4 6]\"\n",
    "print(np.sum(x, axis=0)) \n"
   ]
  },
  {
   "cell_type": "code",
   "execution_count": null,
   "id": "9bb54950",
   "metadata": {},
   "outputs": [],
   "source": [
    "\n",
    "### Compute sum of each row; prints \"[3 7]\"\n",
    "print(np.sum(x, axis=1))"
   ]
  },
  {
   "cell_type": "code",
   "execution_count": null,
   "id": "57b92f61",
   "metadata": {},
   "outputs": [],
   "source": [
    "x = np.array([[1,2],[3,4]])\n",
    "\n",
    "### Compute mean of all elements; prints \"2.5\"\n",
    "print(np.mean(x))\n",
    "\n",
    "### Compute mean of each column; prints \"[2 3]\"\n",
    "print(np.mean(x, axis=0)) \n",
    "\n",
    "### Compute mean of each row; prints \"[1.5 3.5]\"\n",
    "print(np.mean(x, axis=1))"
   ]
  },
  {
   "cell_type": "markdown",
   "id": "6bd1d93d",
   "metadata": {},
   "source": [
    "## SciPy\n",
    "\n",
    "Numpy provides a high-performance multidimensional array and basic tools to compute with and manipulate these arrays. SciPy builds on this, and provides a large number of functions that operate on numpy arrays and are useful for different types of scientific and engineering applications.\n",
    "\n",
    "For this course, we will primariyl be using the **SciPy.Stats** sub-library.\n",
    "\n",
    "### SciPy.Stats\n",
    "\n",
    "The SciPy.Stats module contains a large number of probability distributions as well as a growing library of statistical functions such as:\n",
    "\n",
    "* Continuous and Discrete Distributions (i.e Normal, Uniform, Binomial, etc.)\n",
    "\n",
    "* Descriptive Statistcs\n",
    "\n",
    "* Statistical Tests (i.e T-Test)"
   ]
  },
  {
   "cell_type": "code",
   "execution_count": null,
   "id": "0cef5c99",
   "metadata": {},
   "outputs": [],
   "source": [
    "import numpy as np\n",
    "from scipy import stats\n",
    "\n",
    "\n",
    "### Print Normal Random Variables\n",
    "print(stats.norm.rvs(size = 10))"
   ]
  },
  {
   "cell_type": "code",
   "execution_count": null,
   "id": "18131082",
   "metadata": {},
   "outputs": [],
   "source": [
    "from pylab import *\n",
    "\n",
    "# Create some test data\n",
    "dx = .01\n",
    "X  = np.arange(-2,2,dx)\n",
    "Y  = exp(-X**2)\n",
    "\n",
    "# Normalize the data to a proper PDF\n",
    "Y /= (dx*Y).sum()\n",
    "\n",
    "# Compute the CDF\n",
    "CY = np.cumsum(Y*dx)\n",
    "\n",
    "# Plot both\n",
    "plot(X,Y)\n",
    "plot(X,CY,'r--')\n",
    "\n",
    "show()"
   ]
  },
  {
   "cell_type": "code",
   "execution_count": null,
   "id": "f54e8b99",
   "metadata": {},
   "outputs": [],
   "source": [
    "### Compute the Normal CDF of certain values.\n",
    "print(stats.norm.cdf(np.array([1,-1., 0, 1, 3, 4, -2, 6])))"
   ]
  },
  {
   "cell_type": "markdown",
   "id": "98e51d1c",
   "metadata": {},
   "source": [
    "#### Descriptive Statistics"
   ]
  },
  {
   "cell_type": "code",
   "execution_count": null,
   "id": "832c6ef1",
   "metadata": {},
   "outputs": [],
   "source": [
    "np.random.seed(282629734)\n",
    "\n",
    "# Generate 1000 Student’s T continuous random variables.\n",
    "x = stats.t.rvs(10, size=1000)\n",
    "\n",
    "# Do some descriptive statistics\n",
    "print(x.min())   # equivalent to np.min(x)\n",
    "\n",
    "print(x.max())   # equivalent to np.max(x)\n",
    "\n",
    "print(x.mean())  # equivalent to np.mean(x)\n",
    "\n",
    "print(x.var())   # equivalent to np.var(x))\n",
    "\n",
    "stats.describe(x)"
   ]
  },
  {
   "cell_type": "markdown",
   "id": "4ce11d90",
   "metadata": {},
   "source": [
    "Later in the course, we will discuss distributions and statistical tests such as a T-Test.  SciPy has built in functions for these operations.\n",
    "\n",
    "## MatPlotLib\n",
    "\n",
    "Matplotlib is a plotting library. In this section give a brief introduction to the matplotlib.pyplot module."
   ]
  },
  {
   "cell_type": "code",
   "execution_count": null,
   "id": "df795a37",
   "metadata": {},
   "outputs": [],
   "source": [
    "import matplotlib.pyplot as plt\n",
    "\n",
    "a_x = plt.plot(2,3, 'x')\n"
   ]
  },
  {
   "cell_type": "code",
   "execution_count": null,
   "id": "f705459d",
   "metadata": {},
   "outputs": [],
   "source": [
    "a_o = plt.plot(10,5,'o')"
   ]
  },
  {
   "cell_type": "code",
   "execution_count": null,
   "id": "f0023134",
   "metadata": {},
   "outputs": [],
   "source": [
    "plt.xlabel(\"X\")\n",
    "plt.ylabel('Y')\n",
    "a_o = plt.plot(10,5,'o')\n",
    "plt.title('My title')"
   ]
  },
  {
   "cell_type": "code",
   "execution_count": null,
   "id": "74d2126d",
   "metadata": {},
   "outputs": [],
   "source": [
    "data = {\n",
    "    \"Name\": [\"Jim\", \"Dwight\", \"Angela\", \"Tobi\"],\n",
    "    \"Age\": [27, 28, 27, 32],\n",
    "    \"Weight\": [50, 55, 80, 40]\n",
    "}\n",
    "\n",
    "df = pd.DataFrame(data)\n",
    "df"
   ]
  },
  {
   "cell_type": "code",
   "execution_count": null,
   "id": "7085d749",
   "metadata": {},
   "outputs": [],
   "source": [
    "line_plot = df.plot(kind='line')"
   ]
  },
  {
   "cell_type": "code",
   "execution_count": null,
   "id": "c88177f6",
   "metadata": {},
   "outputs": [],
   "source": [
    "hit_plot = df['Age'].plot(kind='hist')"
   ]
  },
  {
   "cell_type": "code",
   "execution_count": null,
   "id": "8b0f693f",
   "metadata": {},
   "outputs": [],
   "source": []
  },
  {
   "cell_type": "code",
   "execution_count": null,
   "id": "ba7e6554",
   "metadata": {},
   "outputs": [],
   "source": []
  },
  {
   "cell_type": "code",
   "execution_count": null,
   "id": "c726aafa",
   "metadata": {},
   "outputs": [],
   "source": [
    "import numpy as np\n",
    "import matplotlib.pyplot as plt\n",
    "\n",
    "# Compute the x and y coordinates for points on a sine curve\n",
    "x = np.arange(0, 3 * np.pi, 0.1)\n",
    "y = np.sin(x)\n",
    "\n",
    "# Plot the points using matplotlib\n",
    "plt.plot(x, y)\n",
    "plt.show()  # You must call plt.show() to make graphics appear.\n",
    "\n",
    "# Compute the x and y coordinates for points on sine and cosine curves\n",
    "x = np.arange(0, 3 * np.pi, 0.1)\n",
    "y_sin = np.sin(x)\n",
    "y_cos = np.cos(x)\n",
    "\n",
    "# Plot the points using matplotlib\n",
    "plt.plot(x, y_sin)\n",
    "plt.plot(x, y_cos)\n",
    "plt.xlabel('x axis label')\n",
    "plt.ylabel('y axis label')\n",
    "plt.title('Sine and Cosine')\n",
    "plt.legend(['Sine', 'Cosine'])\n",
    "plt.show()"
   ]
  },
  {
   "cell_type": "markdown",
   "id": "bbc764ec",
   "metadata": {},
   "source": [
    "#### Subplots"
   ]
  },
  {
   "cell_type": "code",
   "execution_count": null,
   "id": "9ff9b945",
   "metadata": {},
   "outputs": [],
   "source": [
    "import numpy as np\n",
    "import matplotlib.pyplot as plt\n",
    "\n",
    "# Compute the x and y coordinates for points on sine and cosine curves\n",
    "x = np.arange(0, 3 * np.pi, 0.1)\n",
    "y_sin = np.sin(x)\n",
    "y_cos = np.cos(x)\n",
    "\n",
    "# Set up a subplot grid that has height 2 and width 1,\n",
    "# and set the first such subplot as active.\n",
    "plt.subplot(2, 1, 1)\n",
    "\n",
    "# Make the first plot\n",
    "plt.plot(x, y_sin)\n",
    "plt.title('Sine')\n",
    "\n",
    "# Set the second subplot as active, and make the second plot.\n",
    "plt.subplot(2, 1, 2)\n",
    "plt.plot(x, y_cos)\n",
    "plt.title('Cosine')\n",
    "\n",
    "# Show the figure.\n",
    "plt.show()"
   ]
  },
  {
   "cell_type": "markdown",
   "id": "073b7568",
   "metadata": {},
   "source": [
    "## Seaborn\n",
    "\n",
    "Seaborn is complimentary to Matplotlib and it specifically targets statistical data visualization. But it goes even further than that: Seaborn extends Matplotlib and makes generating visualizations convenient.\n",
    "\n",
    "While Matplotlib is a robust solution for various problems, Seaborn utilizes more concise paramesters for ease-of-use.\n",
    "\n",
    "#### Scatterplots\n",
    "\n"
   ]
  },
  {
   "cell_type": "code",
   "execution_count": null,
   "id": "3cd1c84b",
   "metadata": {},
   "outputs": [],
   "source": [
    "# Import necessary libraries\n",
    "import seaborn as sns\n",
    "import matplotlib.pyplot as plt\n",
    "import pandas as pd\n",
    "\n",
    "# Store the url string that hosts our .csv file\n",
    "url = \"datasets/Cartwheeldata.csv\"\n",
    "\n",
    "# Read the .csv file and store it as a pandas Data Frame\n",
    "df = pd.read_csv(url)\n",
    "\n",
    "# Create Scatterplot\n",
    "sns.lmplot(x='Wingspan', y='CWDistance', data=df)\n",
    "\n",
    "plt.show()\n",
    "\n"
   ]
  },
  {
   "cell_type": "code",
   "execution_count": null,
   "id": "5902c2dc",
   "metadata": {},
   "outputs": [],
   "source": [
    "# Scatterplot arguments\n",
    "sns.lmplot(x='Wingspan', y='CWDistance', data=df,\n",
    "           fit_reg=False, # No regression line\n",
    "           hue='Gender')   # Color by evolution stage\n",
    "\n",
    "plt.show()"
   ]
  },
  {
   "cell_type": "code",
   "execution_count": null,
   "id": "590e6b7d",
   "metadata": {},
   "outputs": [],
   "source": [
    "# Construct Cartwheel distance plot\n",
    "sns.swarmplot(x=\"Gender\", y=\"CWDistance\", data=df)\n",
    "\n",
    "plt.show()"
   ]
  },
  {
   "cell_type": "markdown",
   "id": "d31be0c4",
   "metadata": {},
   "source": [
    "#### Boxplots"
   ]
  },
  {
   "cell_type": "code",
   "execution_count": null,
   "id": "a72428fb",
   "metadata": {},
   "outputs": [],
   "source": [
    "sns.boxplot(data=df.loc[:, [\"Age\", \"Height\", \"Wingspan\", \"CWDistance\", \"Score\"]])\n",
    "\n",
    "plt.show()\n",
    "\n",
    "# Male Boxplot\n",
    "sns.boxplot(data=df.loc[df['Gender'] == 'M', [\"Age\", \"Height\", \"Wingspan\", \"CWDistance\", \"Score\"]])\n",
    "\n",
    "plt.show()\n",
    "\n",
    "# Female Boxplot\n",
    "sns.boxplot(data=df.loc[df['Gender'] == 'F', [\"Age\", \"Height\", \"Wingspan\", \"CWDistance\", \"Score\"]])\n",
    "\n",
    "plt.show()\n",
    "\n",
    "# Male Boxplot\n",
    "sns.boxplot(data=df.loc[df['Gender'] == 'M', [\"Score\"]])\n",
    "\n",
    "plt.show()\n",
    "\n",
    "# Female Boxplot\n",
    "sns.boxplot(data=df.loc[df['Gender'] == 'F', [\"Score\"]])\n",
    "\n",
    "plt.show()"
   ]
  },
  {
   "cell_type": "markdown",
   "id": "376a39ae",
   "metadata": {},
   "source": [
    "#### Histogram"
   ]
  },
  {
   "cell_type": "code",
   "execution_count": null,
   "id": "d2a53e6f",
   "metadata": {},
   "outputs": [],
   "source": [
    "# Distribution Plot (a.k.a. Histogram)\n",
    "sns.distplot(df.CWDistance)\n",
    "\n",
    "plt.show()"
   ]
  },
  {
   "cell_type": "markdown",
   "id": "b800e27c",
   "metadata": {},
   "source": [
    "#### Count Plot"
   ]
  },
  {
   "cell_type": "code",
   "execution_count": null,
   "id": "cb9ece96",
   "metadata": {},
   "outputs": [],
   "source": [
    "# Count Plot (a.k.a. Bar Plot)\n",
    "sns.countplot(x='Gender', data=df)\n",
    " \n",
    "plt.xticks(rotation=45)\n",
    "plt.yticks(rotation=45)\n",
    "\n",
    "plt.show()"
   ]
  },
  {
   "cell_type": "code",
   "execution_count": null,
   "id": "418bc46b",
   "metadata": {},
   "outputs": [],
   "source": []
  }
 ],
 "metadata": {
  "kernelspec": {
   "display_name": "Python 3 (ipykernel)",
   "language": "python",
   "name": "python3"
  },
  "language_info": {
   "codemirror_mode": {
    "name": "ipython",
    "version": 3
   },
   "file_extension": ".py",
   "mimetype": "text/x-python",
   "name": "python",
   "nbconvert_exporter": "python",
   "pygments_lexer": "ipython3",
   "version": "3.9.5"
  }
 },
 "nbformat": 4,
 "nbformat_minor": 5
}
