{
 "cells": [
  {
   "cell_type": "markdown",
   "id": "d153008f",
   "metadata": {},
   "source": [
    "# Visualización con Histogramas & Boxplots\n",
    "\n",
    "\n",
    "\n",
    "Cuando se trabaja con un nuevo conjunto de datos, una de las cosas más útiles es comenzar a visualizar los datos. Mediante el uso de tablas, histogramas, diagramas de caja y otras herramientas visuales, podemos tener una mejor idea de lo que los datos pueden estar tratando de decirnos y podemos obtener información sobre los datos que quizás no hubiéramos descubierto de otra manera.\n",
    "\n",
    "Repasaremos cómo realizar algunas visualizaciones básicas en Python y, lo más importante, aprenderemos cómo comenzar a explorar datos desde una perspectiva gráfica."
   ]
  },
  {
   "cell_type": "code",
   "execution_count": null,
   "id": "b69c0c90",
   "metadata": {},
   "outputs": [],
   "source": [
    "# We first need to import the packages that we will be using\n",
    "import seaborn as sns # For plotting\n",
    "import pandas as pd\n",
    "import matplotlib.pyplot as plt # For showing plots\n",
    "\n",
    "# Load in the data set\n",
    "df = pd.read_csv(\"Datasets/tips.csv\")\n",
    "df"
   ]
  },
  {
   "cell_type": "markdown",
   "id": "fcf823f1",
   "metadata": {},
   "source": [
    "## Histogram\n",
    "\n",
    "### Need seaborn package\n",
    "\n",
    "After we have a general 'feel' for the data, it is often good to get a feel for the shape of the distribution of the data.\n",
    "\n",
    "kde = Kernel Density Estimation "
   ]
  },
  {
   "cell_type": "code",
   "execution_count": null,
   "id": "8fafda5c",
   "metadata": {},
   "outputs": [],
   "source": [
    "# Plot a histogram of the total bill\n",
    "sns.histplot(df[\"total_bill\"], \n",
    "             kde = False).set_title(\"Histogram of Total Bill\")\n",
    "plt.show()"
   ]
  },
  {
   "cell_type": "code",
   "execution_count": null,
   "id": "central-cruise",
   "metadata": {},
   "outputs": [],
   "source": [
    "# Plot a histogram of the total bill\n",
    "sns.histplot(df[\"total_bill\"], kde = True).set_title(\"Histogram of Total Bill\")\n",
    "plt.show()"
   ]
  },
  {
   "cell_type": "code",
   "execution_count": null,
   "id": "cfc46bd2",
   "metadata": {},
   "outputs": [],
   "source": [
    "# Plot a histogram of the Tips only\n",
    "sns.histplot(df[\"tip\"], \n",
    "             kde = False).set_title(\"Histogram of Total Tip\")\n",
    "plt.show()"
   ]
  },
  {
   "cell_type": "code",
   "execution_count": null,
   "id": "7a659964",
   "metadata": {},
   "outputs": [],
   "source": [
    "# Plot a histogram of both the total bill and the tips'\n",
    "sns.histplot(df[\"total_bill\"], \n",
    "             kde = False)\n",
    "sns.histplot(df[\"tip\"], \n",
    "             kde = False).set_title(\"Histogram of Both Tip Size and Total Bill\")\n",
    "plt.show()"
   ]
  },
  {
   "cell_type": "markdown",
   "id": "796df339",
   "metadata": {},
   "source": [
    "## Boxplot\n",
    " \n",
    "\n",
    "Boxplots do not show the shape of the distribution, but they can give us a better idea about the center and spread of the distribution as well as any potential outliers that may exist. Boxplots and Histograms often complement each other and help an analyst get more information about the data\n",
    "\n",
    " \n",
    "\n",
    "A `box plot` is a way of statistically representing the *distribution* of the data through five main dimensions:\n",
    "\n",
    "*   **Minimum:** The smallest number in the dataset excluding the outliers.\n",
    "*   **First quartile:** Middle number between the `minimum` and the `median`.\n",
    "*   **Second quartile (Median):** Middle number of the (sorted) dataset.\n",
    "*   **Third quartile:** Middle number between `median` and `maximum`.\n",
    "*   **Maximum:** The largest number in the dataset excluding the outliers.\n",
    "\n",
    "\n",
    "<img src=\"boxplot.png\" width=440, align=\"center\">"
   ]
  },
  {
   "cell_type": "code",
   "execution_count": null,
   "id": "3c81ff31",
   "metadata": {},
   "outputs": [],
   "source": [
    "# Create a boxplot of the total bill amounts\n",
    "sns.boxplot(x = df[\"total_bill\"]).set_title(\"Box plot of the Total Bill\")\n",
    "#sns.boxplot(df[\"total_bill\"], whis=(0, 100)).set_title(\"Box plot of the Total Bill\")\n",
    "plt.show()\n",
    "\n"
   ]
  },
  {
   "cell_type": "code",
   "execution_count": null,
   "id": "af8c3cc1",
   "metadata": {},
   "outputs": [],
   "source": [
    "# Create a boxplot of the tips amounts\n",
    "sns.boxplot(x = df[\"tip\"]).set_title(\"Box plot of the Tip\")\n",
    "plt.show()"
   ]
  },
  {
   "cell_type": "code",
   "execution_count": null,
   "id": "5ed12f43",
   "metadata": {},
   "outputs": [],
   "source": [
    "# Create a boxplot of the tips and total bill amounts - do not do it like this\n",
    "sns.boxplot(x = df[\"total_bill\"])\n",
    "sns.boxplot(x = df[\"tip\"]).set_title(\"Box plot of the Total Bill and Tips\")\n",
    "plt.show()"
   ]
  },
  {
   "cell_type": "code",
   "execution_count": null,
   "id": "c91cc751",
   "metadata": {},
   "outputs": [],
   "source": [
    "a = df.boxplot(column=['total_bill'])"
   ]
  },
  {
   "cell_type": "code",
   "execution_count": null,
   "id": "excessive-exploration",
   "metadata": {},
   "outputs": [],
   "source": [
    "a= df.boxplot(column=['tip', 'total_bill'])"
   ]
  },
  {
   "cell_type": "markdown",
   "id": "f1ed2bef",
   "metadata": {},
   "source": [
    "## Creating Histograms and Boxplots Plotted by Groups\n",
    "\n",
    "While looking at a single variable is interesting, it is often useful to see how a variable changes in response to another. \n",
    "\n",
    "Using graphs, we can see if there is a difference between:\n",
    "\n",
    "*  the tipping amounts of `smokers` vs. `non-smokers`, \n",
    "*  if tipping varies `according to the time of the day`, or \n",
    "*  we can explore other `trends in the data` as well."
   ]
  },
  {
   "cell_type": "code",
   "execution_count": null,
   "id": "declared-fruit",
   "metadata": {},
   "outputs": [],
   "source": [
    "print(df.head())\n",
    "\n",
    "sns.boxplot(x = df[\"tip\"]).set_title(\"Box plot of the Total Bill and Tips\")\n",
    "plt.show()"
   ]
  },
  {
   "cell_type": "code",
   "execution_count": null,
   "id": "05a21c3e",
   "metadata": {},
   "outputs": [],
   "source": [
    "# Create a boxplot and histogram of the tips GROUPED by smoking status\n",
    "sns.boxplot(x = df[\"tip\"], \n",
    "            y = df[\"smoker\"])\n",
    "plt.show()"
   ]
  },
  {
   "cell_type": "code",
   "execution_count": null,
   "id": "d9b1c47e",
   "metadata": {},
   "outputs": [],
   "source": [
    "# Create a boxplot and histogram of the tips GROUPED by time of day\n",
    "sns.boxplot(x = df[\"tip\"], \n",
    "            y = df[\"time\"])"
   ]
  },
  {
   "cell_type": "code",
   "execution_count": null,
   "id": "dec01835",
   "metadata": {},
   "outputs": [],
   "source": [
    "# Create a boxplot and histogram of the tips grouped by the day\n",
    "sns.boxplot(x = df[\"tip\"], \n",
    "            y = df[\"day\"])\n",
    "plt"
   ]
  },
  {
   "cell_type": "code",
   "execution_count": null,
   "id": "b76ccbb8",
   "metadata": {},
   "outputs": [],
   "source": [
    "g = sns.FacetGrid(df, \n",
    "                  row = \"smoker\")\n",
    "g = g.map(plt.hist, \n",
    "          \"tip\")\n",
    "plt.show()"
   ]
  },
  {
   "cell_type": "code",
   "execution_count": null,
   "id": "4258c0d6",
   "metadata": {},
   "outputs": [],
   "source": [
    "g = sns.FacetGrid(df, \n",
    "                  row = \"time\")\n",
    "g = g.map(plt.hist, \n",
    "          \"tip\")\n",
    "plt.show()"
   ]
  },
  {
   "cell_type": "code",
   "execution_count": null,
   "id": "380aace9",
   "metadata": {},
   "outputs": [],
   "source": [
    "\n",
    "g = sns.FacetGrid(df, \n",
    "                  row = \"day\")\n",
    "g = g.map(plt.hist, \n",
    "          \"tip\")\n",
    "plt.show()"
   ]
  },
  {
   "cell_type": "code",
   "execution_count": null,
   "id": "forbidden-visitor",
   "metadata": {},
   "outputs": [],
   "source": [
    "print('='*30,'Good luck!', '='*30)"
   ]
  },
  {
   "cell_type": "code",
   "execution_count": null,
   "id": "4465a005",
   "metadata": {},
   "outputs": [],
   "source": []
  }
 ],
 "metadata": {
  "kernelspec": {
   "display_name": "Python 3 (ipykernel)",
   "language": "python",
   "name": "python3"
  },
  "language_info": {
   "codemirror_mode": {
    "name": "ipython",
    "version": 3
   },
   "file_extension": ".py",
   "mimetype": "text/x-python",
   "name": "python",
   "nbconvert_exporter": "python",
   "pygments_lexer": "ipython3",
   "version": "3.9.5"
  }
 },
 "nbformat": 4,
 "nbformat_minor": 5
}
