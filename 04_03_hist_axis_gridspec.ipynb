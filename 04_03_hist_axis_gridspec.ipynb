{
 "cells": [
  {
   "cell_type": "markdown",
   "id": "f09ba00c",
   "metadata": {},
   "source": [
    "# Histograms"
   ]
  },
  {
   "cell_type": "code",
   "execution_count": null,
   "id": "f33fefab",
   "metadata": {},
   "outputs": [],
   "source": [
    "import matplotlib.pyplot as plt\n",
    "import numpy as np\n",
    "\n",
    "plt.figure()\n",
    "plt.subplot(1, 3, 1)  # one row, 3 columns, 1sst column  as current axis\n",
    "\n",
    "linear_data = np.array([0, 1, 2, 3, 4, 5, 6, 7, 8, 9, 10,11])\n",
    "\n",
    "plt.plot(linear_data, \n",
    "         '-o', \n",
    "         color='darkolivegreen')"
   ]
  },
  {
   "cell_type": "code",
   "execution_count": null,
   "id": "8723c4a0",
   "metadata": {},
   "outputs": [],
   "source": [
    "exponential_data = linear_data ** 2\n",
    "plt.subplot(1, 3, 2)  # 1 column, 3 rows, current axis is 2nd column\n",
    "plt.plot(exponential_data, \n",
    "         '-o', \n",
    "         color='crimson')"
   ]
  },
  {
   "cell_type": "code",
   "execution_count": null,
   "id": "b16f7891",
   "metadata": {},
   "outputs": [],
   "source": [
    "plt.subplot(1, 3, 3)  # 1 column, 3 rows, column 3 - current axis\n",
    "\n",
    "plt.plot(exponential_data, \n",
    "         '-x', \n",
    "         color='olive')\n",
    "plt.plot(linear_data, \n",
    "         '-x', \n",
    "         color='burlywood')"
   ]
  },
  {
   "cell_type": "code",
   "execution_count": null,
   "id": "c1f8661f",
   "metadata": {},
   "outputs": [],
   "source": [
    "plt.figure()\n",
    "\n",
    "ax1 = plt.subplot(1, 2, 1)\n",
    "plt.plot(linear_data, \n",
    "         '-o', \n",
    "         color='indigo')\n",
    "\n",
    "ax2 = plt.subplot(1, 2, 2)\n",
    "plt.plot(exponential_data, \n",
    "         '-x', \n",
    "         color='cadetblue')"
   ]
  },
  {
   "cell_type": "markdown",
   "id": "829e946c",
   "metadata": {},
   "source": [
    "### Share same axis"
   ]
  },
  {
   "cell_type": "code",
   "execution_count": null,
   "id": "149cf38e",
   "metadata": {},
   "outputs": [],
   "source": [
    "plt.figure()\n",
    "\n",
    "ax1 = plt.subplot(1, 2, 1)\n",
    "plt.plot(linear_data, \n",
    "         '-o', \n",
    "         color='indigo')\n",
    "\n",
    "ax2 = plt.subplot(1, 2, 2, sharey=ax1)\n",
    "plt.plot(exponential_data, \n",
    "         '-x', \n",
    "         color='cadetblue')"
   ]
  },
  {
   "cell_type": "code",
   "execution_count": null,
   "id": "b63678f2",
   "metadata": {},
   "outputs": [],
   "source": [
    "# GRID OF FIGURES\n",
    "fig, ((ax1, ax2, ax3), \n",
    "      (ax4, ax5, ax6), \n",
    "      (ax7, ax8, ax9)\n",
    "     ) = plt.subplots(3, 3,sharex=True, sharey=True)\n",
    "\n",
    "ax1.plot(linear_data, 'o')\n",
    "ax5.plot(linear_data, '-', c='r')\n",
    "ax9.plot(linear_data, '-x', c='c')\n",
    "ax7.plot(linear_data, 'x', c='g')\n",
    "plt.show()\n",
    "\n"
   ]
  },
  {
   "cell_type": "code",
   "execution_count": null,
   "id": "9ff0a656",
   "metadata": {},
   "outputs": [],
   "source": [
    "# HISTOGRAMS\n",
    "fig, ((ax1, ax2), \n",
    "      (ax3, ax4)\n",
    "     ) = plt.subplots(2, 2, sharex=True)\n",
    "\n",
    "axs = [ax1, ax2, ax3, ax4]\n",
    "\n",
    "for n in range(0, len(axs)):\n",
    "    sample_size = 10 ** (n + 1)\n",
    "    sample = np.random.normal(loc=20.0, \n",
    "                              scale=1.0, \n",
    "                              size=sample_size) #loc decides the center of hist\n",
    "    axs[n].hist(sample)\n",
    "    axs[n].set_title('n={}'.format(sample_size))\n",
    "plt.show()\n",
    "\n",
    "# when n is large, the distribution is more evident\n",
    "# default bins = 10"
   ]
  },
  {
   "cell_type": "code",
   "execution_count": null,
   "id": "909adc8d",
   "metadata": {},
   "outputs": [],
   "source": [
    "# setting bins = 500\n",
    "\n",
    "fig, ((ax1, ax2), \n",
    "      (ax3, ax4)) = plt.subplots(2, 2, sharex=True)\n",
    "\n",
    "axs = [ax1, ax2, ax3, ax4]\n",
    "\n",
    "for n in range(0, len(axs)):\n",
    "    sample_size = 10 ** (n + 1)\n",
    "    sample = np.random.normal(loc=1.0, \n",
    "                              scale=0.5, \n",
    "                              size=sample_size)\n",
    "    \n",
    "    axs[n].hist(sample, bins=500)\n",
    "    \n",
    "    axs[n].set_title('n={}'.format(sample_size))\n",
    "\n",
    "# number of bins, no rule, decide based on situation, what helps us to take a decision"
   ]
  },
  {
   "cell_type": "code",
   "execution_count": null,
   "id": "ccb58e59",
   "metadata": {},
   "outputs": [],
   "source": [
    "#scatter\n",
    "\n",
    "plt.figure()\n",
    "Y = np.random.normal(loc=0.0, \n",
    "                     scale=1.0, \n",
    "                     size=10000)\n",
    "\n",
    "X = np.random.random(size=10000)\n",
    "plt.scatter(X, Y)"
   ]
  },
  {
   "cell_type": "code",
   "execution_count": null,
   "id": "451459d9",
   "metadata": {},
   "outputs": [],
   "source": [
    "import matplotlib.gridspec as gridspec\n",
    "\n",
    "plt.figure()\n",
    "gspec = gridspec.GridSpec(3, 3)                # 3 rows, 3 columns\n",
    "\n",
    "top_histogram = plt.subplot(gspec[0, 1:])      # row 0, column 1 to - end.\n",
    "side_histogram = plt.subplot(gspec[1:, 0])     # row 1 to - end, column 0. \n",
    "lower_right = plt.subplot(gspec[1:, 1:])       # row 1 to - end, column 1 to - end.\n",
    "\n",
    "top_histogram.hist(X, \n",
    "                   bins=100)\n",
    "side_histogram.hist(Y, \n",
    "                    bins=100, \n",
    "                    orientation='horizontal')\n",
    "lower_right.scatter(X, Y)\n",
    "\n",
    "plt.show()"
   ]
  },
  {
   "cell_type": "code",
   "execution_count": null,
   "id": "b063ada5",
   "metadata": {},
   "outputs": [],
   "source": [
    "plt.figure()\n",
    "\n",
    "gspec = gridspec.GridSpec(3, 3)                # 3 rows, 3 columns\n",
    "\n",
    "top_histogram = plt.subplot(gspec[0, 1:])      # row 0, column 1 to - end.\n",
    "side_histogram = plt.subplot(gspec[1:, 0])     # row 1 to - end, column 0. \n",
    "lower_right = plt.subplot(gspec[1:, 1:])       # row 1 to - end, column 1 to - end.\n",
    "\n",
    "top_histogram.hist(X, bins=100)\n",
    "lower_right.hist(Y, bins=100)  # normed fix scale 0 -1\n",
    "\n",
    "side_histogram.hist(Y, \n",
    "                    bins=100, \n",
    "                    orientation='horizontal')\n",
    "\n",
    "side_histogram.invert_xaxis()\n",
    "\n",
    "plt.show()"
   ]
  },
  {
   "cell_type": "code",
   "execution_count": null,
   "id": "ef6143dc",
   "metadata": {},
   "outputs": [],
   "source": [
    "plt.figure()\n",
    "\n",
    "gspec = gridspec.GridSpec(3, 3)                # 3 rows, 3 columns\n",
    "\n",
    "top_histogram = plt.subplot(gspec[0, 1:])      # row 0, column 1 to - end.\n",
    "side_histogram = plt.subplot(gspec[1:, 0])     # row 1 to - end, column 0. \n",
    "lower_right = plt.subplot(gspec[1:, 1:])       # row 1 to - end, column 1 to - end.\n",
    "\n",
    "for ax in [top_histogram, lower_right]:\n",
    "    ax.set_xlim(0, 1)\n",
    "    ax.set_ylim(-5, 250)\n",
    "for ax in [side_histogram, lower_right]:\n",
    "    ax.set_ylim(-5, 5)\n",
    "\n",
    "top_histogram.hist(X, bins=100)\n",
    "lower_right.hist(Y, bins=100)  # normed fix scale 0 -1\n",
    "side_histogram.hist(Y, bins=100, orientation='horizontal')\n",
    "side_histogram.invert_xaxis()\n",
    "\n",
    "plt.show()"
   ]
  },
  {
   "cell_type": "code",
   "execution_count": null,
   "id": "64d298f9",
   "metadata": {},
   "outputs": [],
   "source": []
  }
 ],
 "metadata": {
  "kernelspec": {
   "display_name": "Python 3 (ipykernel)",
   "language": "python",
   "name": "python3"
  },
  "language_info": {
   "codemirror_mode": {
    "name": "ipython",
    "version": 3
   },
   "file_extension": ".py",
   "mimetype": "text/x-python",
   "name": "python",
   "nbconvert_exporter": "python",
   "pygments_lexer": "ipython3",
   "version": "3.9.5"
  }
 },
 "nbformat": 4,
 "nbformat_minor": 5
}
