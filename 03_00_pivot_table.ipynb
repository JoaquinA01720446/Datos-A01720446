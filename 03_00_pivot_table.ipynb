{
 "cells": [
  {
   "cell_type": "markdown",
   "id": "906c0f65",
   "metadata": {},
   "source": [
    "# Pivot Tables"
   ]
  },
  {
   "cell_type": "code",
   "execution_count": null,
   "id": "ef13fc33",
   "metadata": {},
   "outputs": [],
   "source": [
    "import numpy as np\n",
    "import pandas as pd\n",
    "df = pd.read_csv('datasets/census.csv')\n",
    "#pd.set_option('display.max_columns',500, 'display.max_rows', 500)\n",
    "df.head()"
   ]
  },
  {
   "cell_type": "code",
   "execution_count": null,
   "id": "cb55ae86",
   "metadata": {},
   "outputs": [],
   "source": [
    "pd.pivot_table(df, \n",
    "               index = 'STNAME'\n",
    "              )"
   ]
  },
  {
   "cell_type": "code",
   "execution_count": null,
   "id": "c3f994d8",
   "metadata": {},
   "outputs": [],
   "source": [
    "pd.pivot_table(df, \n",
    "               index='STNAME', \n",
    "               values='BIRTHS2010'\n",
    "              ) #default is : aggfunc='mean'"
   ]
  },
  {
   "cell_type": "code",
   "execution_count": null,
   "id": "6743a674",
   "metadata": {},
   "outputs": [],
   "source": [
    "pd.pivot_table(df, \n",
    "               index='STNAME', \n",
    "               values='BIRTHS2010', \n",
    "               aggfunc='sum'\n",
    "              )"
   ]
  },
  {
   "cell_type": "code",
   "execution_count": null,
   "id": "ffa11800",
   "metadata": {},
   "outputs": [],
   "source": [
    "pd.pivot_table(df, \n",
    "               index='STNAME', \n",
    "               values='BIRTHS2010', \n",
    "               aggfunc='mean'\n",
    "              )"
   ]
  },
  {
   "cell_type": "code",
   "execution_count": null,
   "id": "6ece6b81",
   "metadata": {},
   "outputs": [],
   "source": [
    "pd.pivot_table(df, \n",
    "               index='STNAME', \n",
    "               values='BIRTHS2010', \n",
    "               aggfunc='median'\n",
    "              )"
   ]
  },
  {
   "cell_type": "code",
   "execution_count": null,
   "id": "cff79fee",
   "metadata": {},
   "outputs": [],
   "source": [
    "pd.pivot_table(df, \n",
    "               index='STNAME', \n",
    "               values='BIRTHS2010', \n",
    "               columns='COUNTY'\n",
    "              )"
   ]
  },
  {
   "cell_type": "code",
   "execution_count": null,
   "id": "ccb4ab4d",
   "metadata": {},
   "outputs": [],
   "source": [
    "pd.pivot_table(df, \n",
    "               index='STNAME', \n",
    "               values='BIRTHS2010', \n",
    "               columns='COUNTY', \n",
    "               margins=True\n",
    "              ) #margins gives the 'ALL' at the end and botom "
   ]
  },
  {
   "cell_type": "code",
   "execution_count": null,
   "id": "f8077d29",
   "metadata": {},
   "outputs": [],
   "source": [
    "df = pd.read_csv('datasets/airline_data.csv')\n",
    "df.head(500)"
   ]
  },
  {
   "cell_type": "code",
   "execution_count": null,
   "id": "cb965f79",
   "metadata": {},
   "outputs": [],
   "source": [
    "pd.pivot_table(df, \n",
    "               index=['Year', 'Quarter'], \n",
    "               values='DepDelay', \n",
    "               columns='DepartureDelayGroups', \n",
    "               aggfunc= 'sum',\n",
    "               margins=True\n",
    "              ) #margins gives the 'ALL' at the end and botom "
   ]
  },
  {
   "cell_type": "code",
   "execution_count": null,
   "id": "3d2639ee",
   "metadata": {},
   "outputs": [],
   "source": [
    "pd.pivot_table(df, \n",
    "               index=['Year', 'Quarter'], \n",
    "               values='AirTime', \n",
    "               aggfunc='sum', \n",
    "               margins=True\n",
    "              ) #margins gives the 'ALL' at the end and botom "
   ]
  },
  {
   "cell_type": "code",
   "execution_count": null,
   "id": "fb204e46",
   "metadata": {},
   "outputs": [],
   "source": [
    "data_file = 'datasets/sample_pivot.csv'\n",
    "data = pd.read_csv(data_file)\n",
    "data.head()"
   ]
  },
  {
   "cell_type": "code",
   "execution_count": null,
   "id": "cee36774",
   "metadata": {},
   "outputs": [],
   "source": [
    "pd.pivot_table(data, \n",
    "               index='Region'\n",
    "              )"
   ]
  },
  {
   "cell_type": "code",
   "execution_count": null,
   "id": "3e55f21e",
   "metadata": {},
   "outputs": [],
   "source": [
    "average_sales = pd.pivot_table(data, \n",
    "                               index='Region', \n",
    "                               values='Sales'\n",
    "                              )\n",
    "average_sales"
   ]
  },
  {
   "cell_type": "code",
   "execution_count": null,
   "id": "bd33577a",
   "metadata": {},
   "outputs": [],
   "source": [
    "total_sales_pivot = pd.pivot_table(data, \n",
    "                                   index='Region',\n",
    "                                   values='Sales', \n",
    "                                   aggfunc='sum'\n",
    "                                  )\n",
    "total_sales_pivot"
   ]
  },
  {
   "cell_type": "code",
   "execution_count": null,
   "id": "05484d16",
   "metadata": {},
   "outputs": [],
   "source": [
    "sales_pivot = pd.pivot_table(data, \n",
    "                             index='Region', \n",
    "                             values='Sales', \n",
    "                             aggfunc=['sum', 'mean','median']\n",
    "                            )\n",
    "sales_pivot"
   ]
  },
  {
   "cell_type": "code",
   "execution_count": null,
   "id": "48871b3e",
   "metadata": {},
   "outputs": [],
   "source": [
    "pd.pivot_table(data, \n",
    "               index='Region', \n",
    "               values='Units', \n",
    "               columns='Type'\n",
    "              )"
   ]
  },
  {
   "cell_type": "code",
   "execution_count": null,
   "id": "d00c3b56",
   "metadata": {},
   "outputs": [],
   "source": [
    "pd.pivot_table(data, \n",
    "               index='Region', \n",
    "               values='Units', \n",
    "               columns='Type', \n",
    "               fill_value=0\n",
    "              )"
   ]
  },
  {
   "cell_type": "code",
   "execution_count": null,
   "id": "55d4d9ab",
   "metadata": {},
   "outputs": [],
   "source": [
    "pd.pivot_table(data, \n",
    "               index='Region', \n",
    "               values='Sales', \n",
    "               columns='Type', \n",
    "               aggfunc='sum', \n",
    "               margins='sum', \n",
    "               margins_name='Total'\n",
    "              )"
   ]
  },
  {
   "cell_type": "code",
   "execution_count": null,
   "id": "27c0a15f",
   "metadata": {},
   "outputs": [],
   "source": []
  }
 ],
 "metadata": {
  "kernelspec": {
   "display_name": "Python 3 (ipykernel)",
   "language": "python",
   "name": "python3"
  },
  "language_info": {
   "codemirror_mode": {
    "name": "ipython",
    "version": 3
   },
   "file_extension": ".py",
   "mimetype": "text/x-python",
   "name": "python",
   "nbconvert_exporter": "python",
   "pygments_lexer": "ipython3",
   "version": "3.9.5"
  }
 },
 "nbformat": 4,
 "nbformat_minor": 5
}
