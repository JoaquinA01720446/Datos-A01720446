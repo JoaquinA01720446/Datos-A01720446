{
 "cells": [
  {
   "cell_type": "markdown",
   "id": "fb548286",
   "metadata": {},
   "source": [
    "## Python Lambda\n",
    "\n",
    "Una función lambda puede tomar cualquier número de argumentos, pero solo puede tener una expresión.\n",
    "\n",
    "`lambda arguments : expression`"
   ]
  },
  {
   "cell_type": "code",
   "execution_count": null,
   "id": "ba5ec992",
   "metadata": {},
   "outputs": [],
   "source": [
    "x = lambda a : a + 2\n",
    "x(5)"
   ]
  },
  {
   "cell_type": "code",
   "execution_count": null,
   "id": "6f3268d0",
   "metadata": {},
   "outputs": [],
   "source": [
    "x = lambda a, b, c : a + b + c\n",
    "print(x(2, 4, 6))"
   ]
  },
  {
   "cell_type": "code",
   "execution_count": null,
   "id": "5770129b",
   "metadata": {},
   "outputs": [],
   "source": [
    "z = lambda a=0, b=0, c=0 : a + b + c # =0 sets default values\n",
    "\n",
    "print(z(2))\n",
    "print(z(2, 4))\n",
    "print(z(2, 4, 6))"
   ]
  },
  {
   "cell_type": "markdown",
   "id": "ee598bba",
   "metadata": {},
   "source": [
    "* An `f`-string is a literal string, prefixed with 'f', which contains expressions inside braces. \n",
    "* The `title()` method returns a string where the first character in every word is upper case."
   ]
  },
  {
   "cell_type": "code",
   "execution_count": null,
   "id": "ac20146d",
   "metadata": {},
   "outputs": [],
   "source": [
    "full_name=lambda first,last:f'Full name:{first.title()}{last.title()}' \n",
    "\n",
    "full_name('juan', 'carlos')"
   ]
  },
  {
   "cell_type": "code",
   "execution_count": null,
   "id": "d2bb6529",
   "metadata": {},
   "outputs": [],
   "source": [
    "import pandas as pd\n",
    "import numpy as np\n",
    "\n",
    "desired_width = 320\n",
    "pd.set_option('display.width', desired_width)\n",
    "# np.set_printoptions(linewidth=desired_width)\n",
    "#pd.set_option('display.max_columns', None)\n",
    "#pd.set_option('display.max_rows', None)\n",
    "\n",
    "\n",
    "df = pd.DataFrame(['A+', 'A', 'A-', 'B+', 'B', 'B-', 'C+', 'C', \n",
    "                   'C-', 'D+', 'D'],\n",
    "                  index=['Excellent', 'Excellent', 'Excellent', \n",
    "                         'Good', 'Good', \n",
    "                         'Good', 'ok', 'ok', 'ok', 'poor', 'poor'],\n",
    "                  columns=['Grades'])"
   ]
  },
  {
   "cell_type": "code",
   "execution_count": null,
   "id": "8fbb8ffa",
   "metadata": {},
   "outputs": [],
   "source": [
    "print(df)"
   ]
  },
  {
   "cell_type": "code",
   "execution_count": null,
   "id": "eaf87190",
   "metadata": {},
   "outputs": [],
   "source": [
    "print(df.dtypes)"
   ]
  },
  {
   "cell_type": "code",
   "execution_count": null,
   "id": "fc9c2dac",
   "metadata": {},
   "outputs": [],
   "source": [
    "print(df['Grades'].astype('category'))"
   ]
  },
  {
   "cell_type": "code",
   "execution_count": null,
   "id": "7bb9018f",
   "metadata": {
    "scrolled": true
   },
   "outputs": [],
   "source": [
    "###left_aligned_df = pd.set_option(df,\"display.colheader_justify\", \"left\")\n",
    "###print(left_aligned_df)"
   ]
  },
  {
   "cell_type": "code",
   "execution_count": null,
   "id": "051f659b",
   "metadata": {},
   "outputs": [],
   "source": [
    "my_ordered_categories = pd.CategoricalDtype(\n",
    "    categories=['D', 'D+', 'C-', 'C', 'C+', \n",
    "                'B-', 'B', 'B+', 'A-', 'A', \n",
    "                'A+'],\n",
    "    ordered=True)\n",
    "\n",
    "grades = df['Grades'].astype(my_ordered_categories)\n",
    "\n",
    "print(grades)"
   ]
  },
  {
   "cell_type": "code",
   "execution_count": null,
   "id": "6d088184",
   "metadata": {},
   "outputs": [],
   "source": [
    "%matplotlib inline\n",
    "%matplotlib inline\n",
    "\n",
    "df = pd.read_csv('datasets/census.csv')\n",
    "df"
   ]
  },
  {
   "cell_type": "code",
   "execution_count": null,
   "id": "24b4d4c0",
   "metadata": {},
   "outputs": [],
   "source": [
    "df1 = df[df['SUMLEV'] == 50]\n",
    "df1"
   ]
  },
  {
   "cell_type": "code",
   "execution_count": null,
   "id": "8c1ae740",
   "metadata": {},
   "outputs": [],
   "source": [
    "df2 = df.set_index('STNAME').groupby(level=0)['CENSUS2010POP'].agg(np.average)\n",
    "#....groupby(level=0)['CENSUS2010POP'].agg(np.average)\n",
    "print(df2.head())"
   ]
  },
  {
   "cell_type": "code",
   "execution_count": null,
   "id": "aa91f317",
   "metadata": {},
   "outputs": [],
   "source": [
    "df = pd.read_csv('datasets/cwurData.csv')\n",
    "print(df[:0])"
   ]
  },
  {
   "cell_type": "code",
   "execution_count": null,
   "id": "5551a711",
   "metadata": {},
   "outputs": [],
   "source": [
    "df"
   ]
  },
  {
   "cell_type": "markdown",
   "id": "aa4ba851",
   "metadata": {},
   "source": [
    "#### Try to think about how to create a column named `Rank_Level` like this:\n",
    "\n",
    "   * If the _world_rank_ is between `1 and 100`, then `First Tier Top University`\n",
    "   * If the _world_rank_  is between `101 and 200`, then `Second Tier Top University`\n",
    "   * If the _world_rank_  is between `201 and 300`, then `Third Tier Top University`\n",
    "   * `Else`：`Other Top University`"
   ]
  },
  {
   "cell_type": "code",
   "execution_count": null,
   "id": "758e941e",
   "metadata": {},
   "outputs": [],
   "source": [
    "def create_category(ranking):\n",
    "    if (ranking >= 1) & (ranking <= 100):\n",
    "        return 'First tier top university'\n",
    "    elif (ranking >= 101) & (ranking <= 200):\n",
    "        return 'Second tier top university'\n",
    "    elif (ranking >= 201) & (ranking <= 300):\n",
    "        return 'Third tier top university'\n",
    "    return 'Other top university'\n",
    "\n",
    "\n",
    "df['Rank_Level']=df['world_rank'].apply(lambda x:create_category(x))\n",
    "\n",
    "# print(df[:0])\n",
    "df\n"
   ]
  },
  {
   "cell_type": "code",
   "execution_count": null,
   "id": "d6145edc",
   "metadata": {},
   "outputs": [],
   "source": [
    "a_pivot = df.pivot_table(values='score', \n",
    "                         index='country'\n",
    "                        )\n",
    "a_pivot.head(10)"
   ]
  },
  {
   "cell_type": "code",
   "execution_count": null,
   "id": "d86cc7ee",
   "metadata": {},
   "outputs": [],
   "source": [
    "a_pivot = df.pivot_table(values='score', \n",
    "                         index='country', \n",
    "                         aggfunc=[np.mean]\n",
    "                        )\n",
    "a_pivot.head(10)"
   ]
  },
  {
   "cell_type": "code",
   "execution_count": null,
   "id": "c82339a0",
   "metadata": {},
   "outputs": [],
   "source": [
    "a_pivot = df.pivot_table(values='score', \n",
    "                         index='country', \n",
    "                         columns='Rank_Level', \n",
    "                         aggfunc=[np.mean]\n",
    "                        )\n",
    "a_pivot.head(10)"
   ]
  },
  {
   "cell_type": "code",
   "execution_count": null,
   "id": "be14d15f",
   "metadata": {},
   "outputs": [],
   "source": [
    "a_pivot = df.pivot_table(values='score', \n",
    "                         index=['country', \n",
    "                                'national_rank'], \n",
    "                         columns='Rank_Level', \n",
    "                         aggfunc=[np.mean]\n",
    "                        )\n",
    "a_pivot.head(10)"
   ]
  },
  {
   "cell_type": "code",
   "execution_count": null,
   "id": "68886106",
   "metadata": {},
   "outputs": [],
   "source": [
    "two_argfunc = df.pivot_table(values='score', \n",
    "                             index='country', \n",
    "                             columns='Rank_Level',\n",
    "                             aggfunc=[np.mean, np.max, np.min]\n",
    "                            )  # 3x4 columns\n",
    "two_argfunc.head()"
   ]
  },
  {
   "cell_type": "code",
   "execution_count": null,
   "id": "7dd50a25",
   "metadata": {},
   "outputs": [],
   "source": [
    "agg_margin = df.pivot_table(values='score', \n",
    "                            index='country', \n",
    "                            columns='Rank_Level',\n",
    "                            aggfunc=[np.mean, np.max],\n",
    "                            margins=True\n",
    "                           )  # 3x4 columns\n",
    "agg_margin.head()"
   ]
  },
  {
   "cell_type": "code",
   "execution_count": null,
   "id": "4eb965c2",
   "metadata": {},
   "outputs": [],
   "source": [
    "agg_margin.index"
   ]
  },
  {
   "cell_type": "code",
   "execution_count": null,
   "id": "bbbf6969",
   "metadata": {},
   "outputs": [],
   "source": [
    "agg_margin.columns"
   ]
  },
  {
   "cell_type": "code",
   "execution_count": null,
   "id": "10c44ead",
   "metadata": {},
   "outputs": [],
   "source": [
    "agg_margin['mean']['First tier top university'].head()"
   ]
  },
  {
   "cell_type": "code",
   "execution_count": null,
   "id": "fd9c0d17",
   "metadata": {},
   "outputs": [],
   "source": [
    "type(agg_margin['mean']['First tier top university'].head())"
   ]
  },
  {
   "cell_type": "code",
   "execution_count": null,
   "id": "79a56018",
   "metadata": {},
   "outputs": [],
   "source": [
    "agg_margin['mean']['First tier top university'].idxmax()"
   ]
  },
  {
   "cell_type": "code",
   "execution_count": null,
   "id": "1d4e2397",
   "metadata": {},
   "outputs": [],
   "source": [
    "agg_margin['mean']['First tier top university'].idxmin()"
   ]
  },
  {
   "cell_type": "code",
   "execution_count": null,
   "id": "f7be5b1f",
   "metadata": {},
   "outputs": [],
   "source": [
    "agg_margin.head()"
   ]
  },
  {
   "cell_type": "code",
   "execution_count": null,
   "id": "5402f1d9",
   "metadata": {},
   "outputs": [],
   "source": [
    "new_df = agg_margin.stack() \n",
    "#stack sends lowermost row to innermost column\n",
    "\n",
    "new_df"
   ]
  },
  {
   "cell_type": "code",
   "execution_count": null,
   "id": "6db04821",
   "metadata": {},
   "outputs": [],
   "source": [
    "new_df2 = new_df.unstack()\n",
    "new_df2"
   ]
  },
  {
   "cell_type": "code",
   "execution_count": null,
   "id": "d11370b2",
   "metadata": {},
   "outputs": [],
   "source": [
    "university_mean_max = new_df.unstack().unstack()\n",
    "university_mean_max"
   ]
  },
  {
   "cell_type": "code",
   "execution_count": null,
   "id": "78a0a37c",
   "metadata": {},
   "outputs": [],
   "source": [
    "university_mean_max.to_csv('Outputs/file_name.csv')"
   ]
  },
  {
   "cell_type": "code",
   "execution_count": null,
   "id": "754ffa45",
   "metadata": {},
   "outputs": [],
   "source": []
  }
 ],
 "metadata": {
  "kernelspec": {
   "display_name": "Python 3 (ipykernel)",
   "language": "python",
   "name": "python3"
  },
  "language_info": {
   "codemirror_mode": {
    "name": "ipython",
    "version": 3
   },
   "file_extension": ".py",
   "mimetype": "text/x-python",
   "name": "python",
   "nbconvert_exporter": "python",
   "pygments_lexer": "ipython3",
   "version": "3.9.5"
  }
 },
 "nbformat": 4,
 "nbformat_minor": 5
}
