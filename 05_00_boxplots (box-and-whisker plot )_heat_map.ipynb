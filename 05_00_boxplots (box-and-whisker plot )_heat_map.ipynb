{
 "cells": [
  {
   "cell_type": "markdown",
   "id": "b99f8f66",
   "metadata": {},
   "source": [
    "# More on  Box and whisker plots \n",
    "\n",
    "\n",
    "[Gamma Distribution](https://www.probabilitycourse.com/chapter4/4_2_4_Gamma_distribution.php)\n",
    "\n",
    "Specifically, if $n \\in \\{1,2,3,...\\}$ then: \n",
    "$$Γ(n)=(n−1)!$$\n",
    "\n",
    "More generally, for any positive real number $α$, $Γ(α)$  is defined as\n",
    "\n",
    "$$Γ(α)=\\int_{0}^{\\infty}x^{α−1}e^{−x}dx,\\qquad \\text{for } α>0$$"
   ]
  },
  {
   "cell_type": "code",
   "execution_count": null,
   "id": "ac134bb9",
   "metadata": {},
   "outputs": [],
   "source": [
    "#if problem with matplotlib\n",
    "#import sys\n",
    "#!{sys.executable} -m pip install --user matplotlib\n",
    "### in jupyter notebook\n",
    "\n",
    "\n",
    "import matplotlib.pyplot as plt\n",
    "import pandas as pd\n",
    "import numpy as np\n",
    "\n",
    "normal_sample = np.random.normal(loc=0.0, \n",
    "                                 scale=1.0, \n",
    "                                 size=10000)\n",
    "\n",
    "random_sample = np.random.random(size=10000)\n",
    "gama_sample   = np.random.gamma(2, size=10000)\n",
    "\n",
    "df = pd.DataFrame({'normal': normal_sample,\n",
    "                   'random': random_sample,\n",
    "                   'gamma': gama_sample})\n",
    "\n",
    "df"
   ]
  },
  {
   "cell_type": "code",
   "execution_count": null,
   "id": "7e734515",
   "metadata": {},
   "outputs": [],
   "source": [
    "df.describe()\n",
    "# print(normal_sample.min())"
   ]
  },
  {
   "cell_type": "code",
   "execution_count": null,
   "id": "bfaea5d7",
   "metadata": {},
   "outputs": [],
   "source": [
    "plt.figure()\n",
    "plt.boxplot(df['normal'], whis=(0, 100))"
   ]
  },
  {
   "cell_type": "code",
   "execution_count": null,
   "id": "ea13b684",
   "metadata": {},
   "outputs": [],
   "source": [
    "plt.figure()\n",
    "a_boxplot = plt.boxplot(df['normal'], whis=(0, 100))"
   ]
  },
  {
   "cell_type": "markdown",
   "id": "c52db7a6",
   "metadata": {},
   "source": [
    "*  `cla()`   # Clear axis\n",
    "*  `clf()`   # Clear figure\n",
    "*  `close()` # Close a figure window"
   ]
  },
  {
   "cell_type": "code",
   "execution_count": null,
   "id": "82eacbd7",
   "metadata": {},
   "outputs": [],
   "source": [
    "plt.clf()\n",
    "all_three = plt.boxplot([df['normal'], df['random'], df['gamma']], \n",
    "                        whis=(0, 100))"
   ]
  },
  {
   "cell_type": "code",
   "execution_count": null,
   "id": "56cac6b3",
   "metadata": {},
   "outputs": [],
   "source": [
    "plt.clf()\n",
    "gama = plt.hist(df['gamma'], bins=100)"
   ]
  },
  {
   "cell_type": "markdown",
   "id": "75aba8af",
   "metadata": {},
   "source": [
    "### One figure inside other using `mpl_toolkits`"
   ]
  },
  {
   "cell_type": "code",
   "execution_count": null,
   "id": "93a8b26d",
   "metadata": {},
   "outputs": [],
   "source": [
    "import mpl_toolkits.axes_grid1.inset_locator as mpl_il\n",
    "\n",
    "plt.figure()\n",
    "plt.boxplot([df['normal'], df['random'], df['gamma']],\n",
    "            whis=(0, 100))\n",
    "\n",
    "ax2 = mpl_il.inset_axes(plt.gca(), \n",
    "                        width='60%', \n",
    "                        height='40%', \n",
    "                        loc=2) #gca - Get Current Axis \n",
    "ax2.hist(df['gamma'], bins=100)\n",
    "ax2.margins(x=0.5)\n",
    "\n",
    "plt.show()"
   ]
  },
  {
   "cell_type": "code",
   "execution_count": null,
   "id": "0240d70e",
   "metadata": {},
   "outputs": [],
   "source": [
    "plt.clf()\n",
    "plt.boxplot([df['normal'], df['random'], df['gamma']],\n",
    "            whis=(0, 100))\n",
    "\n",
    "ax2 = mpl_il.inset_axes(plt.gca(), \n",
    "                        width='60%', \n",
    "                        height='40%', \n",
    "                        loc=2) #gca - Get Current Axis ; loc:1-10. \n",
    "ax2.hist(df['gamma'], bins=100)\n",
    "\n",
    "ax2.margins(x=0.5)\n",
    "\n",
    "#changing inset_axes to right \n",
    "ax2.yaxis.tick_right()\n",
    "\n",
    "plt.show()"
   ]
  },
  {
   "cell_type": "code",
   "execution_count": null,
   "id": "60fbb135",
   "metadata": {},
   "outputs": [],
   "source": [
    "plt.clf()\n",
    "outliers = plt.boxplot([df['normal'], df['random'], df['gamma']]) #not using whis comand "
   ]
  },
  {
   "cell_type": "markdown",
   "id": "74d08a66",
   "metadata": {},
   "source": [
    "### 2-D histogram (heat-map)"
   ]
  },
  {
   "cell_type": "code",
   "execution_count": null,
   "id": "fed8ae75",
   "metadata": {},
   "outputs": [],
   "source": [
    "plt.figure()\n",
    "X = np.random.random(size=10000)\n",
    "Y = np.random.normal(loc=10.0, scale=0.5, size=10000)\n",
    "#print(X, Y)\n",
    "_ = plt.hist2d(X,Y, bins = 25)\n",
    "#plt.show()"
   ]
  },
  {
   "cell_type": "code",
   "execution_count": null,
   "id": "4fd17ae5",
   "metadata": {},
   "outputs": [],
   "source": [
    "plt.figure()\n",
    "X = np.random.random(size=10000)\n",
    "Y = np.random.normal(loc=10.0, scale=0.5, size=10000)\n",
    "print(X, Y)\n",
    "_ = plt.hist2d(X,Y, bins = 25)\n",
    "#_x = plt.hist2d(X,Y, bins = 125)\n",
    "plt.colorbar()\n",
    "#plt.show()"
   ]
  },
  {
   "cell_type": "code",
   "execution_count": null,
   "id": "71e0f8f8",
   "metadata": {},
   "outputs": [],
   "source": []
  }
 ],
 "metadata": {
  "kernelspec": {
   "display_name": "Python 3 (ipykernel)",
   "language": "python",
   "name": "python3"
  },
  "language_info": {
   "codemirror_mode": {
    "name": "ipython",
    "version": 3
   },
   "file_extension": ".py",
   "mimetype": "text/x-python",
   "name": "python",
   "nbconvert_exporter": "python",
   "pygments_lexer": "ipython3",
   "version": "3.9.5"
  }
 },
 "nbformat": 4,
 "nbformat_minor": 5
}
