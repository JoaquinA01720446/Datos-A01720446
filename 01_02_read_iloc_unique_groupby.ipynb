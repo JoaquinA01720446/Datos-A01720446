{
 "cells": [
  {
   "cell_type": "markdown",
   "id": "f4e421fc",
   "metadata": {},
   "source": [
    "# Bibliotecas de Python\n",
    "\n",
    "Python, al igual que otros lenguajes de programación, tiene una gran cantidad de módulos o bibliotecas adicionales que aumentan el marco base y la funcionalidad del lenguaje.\n",
    "\n",
    "Piense en una biblioteca como una colección de funciones a las que se puede acceder para completar ciertas tareas de programación sin tener que escribir su propio algoritmo.\n",
    "\n",
    "Para este curso, nos centraremos principalmente en las siguientes bibliotecas:\n",
    "\n",
    "* **Numpy** es una biblioteca para trabajar con matrices de datos.\n",
    "\n",
    "* **Pandas** proporciona estructuras de datos y herramientas de análisis de datos de alto rendimiento y fáciles de usar.\n",
    "\n",
    "* **Scipy** es una biblioteca de técnicas de computación numérica y científica.\n",
    "\n",
    "* **Matplotlib** es una biblioteca para hacer gráficos.\n",
    "\n",
    "* **Seaborn** es una interfaz de nivel superior para Matplotlib que se puede utilizar para simplificar muchas tareas gráficas.\n",
    "\n",
    "* **Statsmodels** es una biblioteca que implementa muchas técnicas estadísticas.\n",
    "\n",
    "# Documentación\n",
    "\n",
    "La documentación confiable y accesible es una necesidad absoluta cuando se trata de la transferencia de conocimientos de lenguajes de programación. Afortunadamente, Python proporciona una cantidad significativa de documentación detallada que explica los entresijos de la sintaxis del lenguaje, las bibliotecas y más.\n",
    "\n",
    "Comprender cómo leer la documentación es crucial para cualquier programador, ya que servirá como un recurso fantástico para aprender las complejidades de Python.\n",
    "\n",
    "Aquí está el enlace a la documentación de la biblioteca estándar de Python: [Biblioteca estándar de Python](https://docs.python.org/3/library/index.html#library-index)\n",
    "\n",
    "\n",
    "### Importación de bibliotecas\n",
    "\n",
    "Al usar Python, siempre debe comenzar sus scripts importando las bibliotecas que usará.\n",
    "\n",
    "La siguiente declaración importa la biblioteca numpy y pandas, y les da nombres abreviados:"
   ]
  },
  {
   "cell_type": "code",
   "execution_count": 1,
   "id": "fef64877",
   "metadata": {},
   "outputs": [],
   "source": [
    "import numpy as np\n",
    "import pandas as pd"
   ]
  },
  {
   "cell_type": "markdown",
   "id": "def8cdae",
   "metadata": {},
   "source": [
    "### Utilizing Library Functions\n",
    "\n",
    "After importing a library, its functions can then be called from your code by prepending the library name to the function name.  For example, to use the '`dot`' function from the '`numpy`' library, you would enter '`numpy.dot`'.  \n",
    "\n",
    "To avoid repeatedly having to type the libary name in your scripts, it is conventional to define a two or three letter abbreviation for each library, e.g. '`numpy`' is usually abbreviated as '`np`'.  This allows us to use '`np.dot`' instead of '`numpy.dot`'.  Similarly, the Pandas library is typically abbreviated as '`pd`'."
   ]
  },
  {
   "cell_type": "code",
   "execution_count": 2,
   "id": "7e971c7d",
   "metadata": {},
   "outputs": [
    {
     "data": {
      "text/plain": [
       "5.0"
      ]
     },
     "execution_count": 2,
     "metadata": {},
     "output_type": "execute_result"
    }
   ],
   "source": [
    "a = np.array([0,1,2,3,4,5,6,7,8,9,10]) \n",
    "np.mean(a)\n"
   ]
  },
  {
   "cell_type": "code",
   "execution_count": 3,
   "id": "341e9ddc",
   "metadata": {},
   "outputs": [
    {
     "data": {
      "text/plain": [
       "(-13+0j)"
      ]
     },
     "execution_count": 3,
     "metadata": {},
     "output_type": "execute_result"
    }
   ],
   "source": [
    "np.dot([2j, 3j], [2j, 3j])"
   ]
  },
  {
   "cell_type": "code",
   "execution_count": 4,
   "id": "39c3ebcb",
   "metadata": {},
   "outputs": [
    {
     "data": {
      "text/plain": [
       "12"
      ]
     },
     "execution_count": 4,
     "metadata": {},
     "output_type": "execute_result"
    }
   ],
   "source": [
    "np.dot(3, 4)"
   ]
  },
  {
   "cell_type": "markdown",
   "id": "aa0827b0",
   "metadata": {},
   "source": [
    "More on [numpy.dot](https://numpy.org/doc/stable/reference/generated/numpy.dot.html) can be seen [here](https://numpy.org/doc/stable/reference/generated/numpy.dot.html). "
   ]
  },
  {
   "cell_type": "markdown",
   "id": "9c806c4c",
   "metadata": {},
   "source": [
    "# Gestión de datos\n",
    "\n",
    "La gestión de datos es un componente crucial para el trabajo de análisis estadístico y ciencia de datos. El siguiente código mostrará cómo importar datos a través de la biblioteca de pandas, ver sus datos y transformarlos.\n",
    "\n",
    "*  La estructura de datos principal con la que trabaja Pandas se llama **DataFrames** (df). Se trata de una tabla de datos bidimensional en la que las filas suelen representar casos (p. Ej., Participantes del concurso Cartwheel) y las **columnas** representan **variables**.\n",
    "\n",
    "* Pandas también tiene una estructura de datos unidimensional llamada ``Series`` que encontraremos al acceder a una sola columna de un Marco de datos.\n",
    "\n",
    "Pandas tiene una variedad de funciones llamadas '`read_xxx`' para leer datos en diferentes formatos. Ahora mismo nos centraremos en leer archivos '`csv`', que significa valores separados por comas. Sin embargo, los otros formatos de archivo incluyen excel, json y sql, solo por nombrar algunos.\n",
    "\n",
    "\n",
    "Hay muchas otras opciones para '`read_csv`' que son muy útiles. Por ejemplo, usaría la opción `sep ='\\t' ` en lugar del predeterminado `sep =','` si los campos de su archivo de datos están delimitados por tabulaciones en lugar de comas. Consulte [aquí](https://pandas.pydata.org/pandas-docs/stable/generated/pandas.read_csv.html) para obtener la documentación completa de '`read_csv`'."
   ]
  },
  {
   "cell_type": "markdown",
   "id": "17dc416a",
   "metadata": {},
   "source": [
    "### Importing Data"
   ]
  },
  {
   "cell_type": "code",
   "execution_count": 5,
   "id": "9c4d00ce",
   "metadata": {},
   "outputs": [
    {
     "data": {
      "text/plain": [
       "pandas.core.frame.DataFrame"
      ]
     },
     "execution_count": 5,
     "metadata": {},
     "output_type": "execute_result"
    }
   ],
   "source": [
    "url = \"datasets/Cartwheeldata.csv\"\n",
    "\n",
    "# Read the .csv file and store it as a pandas Data Frame\n",
    "df = pd.read_csv(url)\n",
    "\n",
    "# Output object type\n",
    "type(df)\n"
   ]
  },
  {
   "cell_type": "markdown",
   "id": "ab46cee2",
   "metadata": {},
   "source": [
    "### Viewing Data\n",
    "\n",
    "We can view our Data Frame by calling the head() function"
   ]
  },
  {
   "cell_type": "code",
   "execution_count": null,
   "id": "7bec4754",
   "metadata": {},
   "outputs": [],
   "source": [
    "df.head() "
   ]
  },
  {
   "cell_type": "code",
   "execution_count": null,
   "id": "41de4233",
   "metadata": {},
   "outputs": [],
   "source": [
    "df.head(3)"
   ]
  },
  {
   "cell_type": "markdown",
   "id": "1aee7869",
   "metadata": {},
   "source": [
    "The head() function simply shows the first 5 rows of our Data Frame.  If we wanted to show the entire Data Frame we would simply write the following:"
   ]
  },
  {
   "cell_type": "code",
   "execution_count": null,
   "id": "094e1408",
   "metadata": {},
   "outputs": [],
   "source": [
    "df"
   ]
  },
  {
   "cell_type": "markdown",
   "id": "042ffd5d",
   "metadata": {},
   "source": [
    "As you can see, we have a 2-Dimensional object where each row is an independent observation of our cartwheel data.\n",
    "\n",
    "To gather more information regarding the data, we can view the column names and data types of each column with the following functions:"
   ]
  },
  {
   "cell_type": "code",
   "execution_count": null,
   "id": "194fed38",
   "metadata": {},
   "outputs": [],
   "source": [
    "df.columns"
   ]
  },
  {
   "cell_type": "code",
   "execution_count": null,
   "id": "c85144e1",
   "metadata": {},
   "outputs": [],
   "source": [
    "for i in df.columns:\n",
    "    print(i)"
   ]
  },
  {
   "cell_type": "code",
   "execution_count": null,
   "id": "a0f5463d",
   "metadata": {},
   "outputs": [],
   "source": [
    "column_names = df.columns\n",
    "print(column_names)\n",
    "\n",
    "column_names = list(df.columns)\n",
    "column_names.sort()\n",
    "print(column_names)"
   ]
  },
  {
   "cell_type": "markdown",
   "id": "33bd5f70",
   "metadata": {},
   "source": [
    "Lets say we would like to splice our data frame and select only specific portions of our data.  There are three different ways of doing so.\n",
    "\n",
    "1. .loc()\n",
    "2. .iloc()\n",
    "3. .ix()\n",
    "\n",
    "We will cover the .loc() and .iloc() splicing functions.\n",
    "\n",
    "## .loc()        \n",
    "\n",
    "### df.loc[row_start : row_end, column_start, column_end]\n",
    "\n",
    "\n",
    ".loc() takes two single/list/range operator separated by ','. The first one indicates the row and the second one indicates columns.\n",
    "\n",
    "Use just \"*column_names*\". **No indices**"
   ]
  },
  {
   "cell_type": "code",
   "execution_count": null,
   "id": "cb46132f",
   "metadata": {},
   "outputs": [],
   "source": [
    "df.loc[:,\"CWDistance\"]"
   ]
  },
  {
   "cell_type": "code",
   "execution_count": null,
   "id": "44849c69",
   "metadata": {},
   "outputs": [],
   "source": [
    "df.loc[:,[\"CWDistance\", \"Height\", \"Wingspan\"]]"
   ]
  },
  {
   "cell_type": "code",
   "execution_count": null,
   "id": "a604ae18",
   "metadata": {},
   "outputs": [],
   "source": [
    "df.loc[:9, [\"CWDistance\", \"Height\", \"Wingspan\"]]"
   ]
  },
  {
   "cell_type": "code",
   "execution_count": null,
   "id": "7054cbb3",
   "metadata": {},
   "outputs": [],
   "source": [
    "# Select range of rows for all columns\n",
    "df.loc[5:10]"
   ]
  },
  {
   "cell_type": "markdown",
   "id": "d570ffe8",
   "metadata": {},
   "source": [
    "The .loc() function requires two arguments, the indices of the rows and the column names you wish to observe.\n",
    "\n",
    "In the above case **:** specifies all rows, and our column is **CWDistance**. df.loc[**:**,**\"CWDistance\"**]\n",
    "\n",
    "Now, let's say we only want to return the first 10 observations:"
   ]
  },
  {
   "cell_type": "code",
   "execution_count": null,
   "id": "1f2dd2e3",
   "metadata": {},
   "outputs": [],
   "source": [
    "df.loc[:9, \"CWDistance\"]"
   ]
  },
  {
   "cell_type": "markdown",
   "id": "41259698",
   "metadata": {},
   "source": [
    "## .iloc()\n",
    "\n",
    "### df.iloc[row_start : row_end, column_start, column_end]\n",
    "\n",
    ".iloc() is integer based slicing, whereas .loc() used labels/column names. \n",
    "\n",
    "Use just *column_index*. **No Names**\n",
    "\n",
    "\n",
    "\n",
    "Here are some examples:"
   ]
  },
  {
   "cell_type": "code",
   "execution_count": null,
   "id": "fd27a904",
   "metadata": {},
   "outputs": [],
   "source": [
    "df.iloc[:4]"
   ]
  },
  {
   "cell_type": "code",
   "execution_count": null,
   "id": "47460865",
   "metadata": {},
   "outputs": [],
   "source": [
    "df.iloc[1:5, 2:4]"
   ]
  },
  {
   "cell_type": "code",
   "execution_count": null,
   "id": "3c821c8a",
   "metadata": {},
   "outputs": [],
   "source": [
    "#df.iloc[1:5, [\"Gender\", \"GenderGroup\"]]# is error. column names can't be called with iloc. \n",
    "df.iloc[1:5, ]"
   ]
  },
  {
   "cell_type": "markdown",
   "id": "1a1ba2d4",
   "metadata": {},
   "source": [
    "We can view the data types of our data frame columns with by calling .dtypes on our data frame:"
   ]
  },
  {
   "cell_type": "code",
   "execution_count": null,
   "id": "67ef4036",
   "metadata": {},
   "outputs": [],
   "source": [
    "df.dtypes"
   ]
  },
  {
   "cell_type": "markdown",
   "id": "ae77b0c8",
   "metadata": {},
   "source": [
    "The output indicates we have integers, floats, and objects with our Data Frame.\n",
    "\n",
    "We may also want to observe the different unique values within a specific column, lets do this for Gender:"
   ]
  },
  {
   "cell_type": "code",
   "execution_count": 6,
   "id": "af1e3da1",
   "metadata": {},
   "outputs": [
    {
     "data": {
      "text/plain": [
       "array(['F', 'M'], dtype=object)"
      ]
     },
     "execution_count": 6,
     "metadata": {},
     "output_type": "execute_result"
    }
   ],
   "source": [
    "df.Gender.unique()"
   ]
  },
  {
   "cell_type": "code",
   "execution_count": 7,
   "id": "6ed5a321",
   "metadata": {},
   "outputs": [
    {
     "data": {
      "text/plain": [
       "array([62.  , 66.  , 64.  , 73.  , 75.  , 65.  , 74.  , 63.  , 69.5 ,\n",
       "       62.75, 61.5 , 71.  , 70.  , 68.  , 69.  ])"
      ]
     },
     "execution_count": 7,
     "metadata": {},
     "output_type": "execute_result"
    }
   ],
   "source": [
    "df.Height.unique()"
   ]
  },
  {
   "cell_type": "code",
   "execution_count": 8,
   "id": "876ff6e8",
   "metadata": {},
   "outputs": [
    {
     "data": {
      "text/plain": [
       "array([1, 2])"
      ]
     },
     "execution_count": 8,
     "metadata": {},
     "output_type": "execute_result"
    }
   ],
   "source": [
    "# Lets explore df[\"GenderGroup] as well\n",
    "df.GenderGroup.unique()"
   ]
  },
  {
   "cell_type": "markdown",
   "id": "bba6b2d6",
   "metadata": {},
   "source": [
    "It seems that these fields may serve the same purpose, which is to specify male vs. female. Lets check this quickly by observing only these two columns:"
   ]
  },
  {
   "cell_type": "code",
   "execution_count": 9,
   "id": "5f73870b",
   "metadata": {},
   "outputs": [
    {
     "data": {
      "text/html": [
       "<div>\n",
       "<style scoped>\n",
       "    .dataframe tbody tr th:only-of-type {\n",
       "        vertical-align: middle;\n",
       "    }\n",
       "\n",
       "    .dataframe tbody tr th {\n",
       "        vertical-align: top;\n",
       "    }\n",
       "\n",
       "    .dataframe thead th {\n",
       "        text-align: right;\n",
       "    }\n",
       "</style>\n",
       "<table border=\"1\" class=\"dataframe\">\n",
       "  <thead>\n",
       "    <tr style=\"text-align: right;\">\n",
       "      <th></th>\n",
       "      <th>Gender</th>\n",
       "      <th>GenderGroup</th>\n",
       "    </tr>\n",
       "  </thead>\n",
       "  <tbody>\n",
       "    <tr>\n",
       "      <th>0</th>\n",
       "      <td>F</td>\n",
       "      <td>1</td>\n",
       "    </tr>\n",
       "    <tr>\n",
       "      <th>1</th>\n",
       "      <td>F</td>\n",
       "      <td>1</td>\n",
       "    </tr>\n",
       "    <tr>\n",
       "      <th>2</th>\n",
       "      <td>F</td>\n",
       "      <td>1</td>\n",
       "    </tr>\n",
       "    <tr>\n",
       "      <th>3</th>\n",
       "      <td>F</td>\n",
       "      <td>1</td>\n",
       "    </tr>\n",
       "    <tr>\n",
       "      <th>4</th>\n",
       "      <td>M</td>\n",
       "      <td>2</td>\n",
       "    </tr>\n",
       "    <tr>\n",
       "      <th>5</th>\n",
       "      <td>M</td>\n",
       "      <td>2</td>\n",
       "    </tr>\n",
       "    <tr>\n",
       "      <th>6</th>\n",
       "      <td>M</td>\n",
       "      <td>2</td>\n",
       "    </tr>\n",
       "    <tr>\n",
       "      <th>7</th>\n",
       "      <td>F</td>\n",
       "      <td>1</td>\n",
       "    </tr>\n",
       "    <tr>\n",
       "      <th>8</th>\n",
       "      <td>M</td>\n",
       "      <td>2</td>\n",
       "    </tr>\n",
       "    <tr>\n",
       "      <th>9</th>\n",
       "      <td>F</td>\n",
       "      <td>1</td>\n",
       "    </tr>\n",
       "    <tr>\n",
       "      <th>10</th>\n",
       "      <td>M</td>\n",
       "      <td>2</td>\n",
       "    </tr>\n",
       "    <tr>\n",
       "      <th>11</th>\n",
       "      <td>F</td>\n",
       "      <td>1</td>\n",
       "    </tr>\n",
       "    <tr>\n",
       "      <th>12</th>\n",
       "      <td>F</td>\n",
       "      <td>1</td>\n",
       "    </tr>\n",
       "    <tr>\n",
       "      <th>13</th>\n",
       "      <td>F</td>\n",
       "      <td>1</td>\n",
       "    </tr>\n",
       "    <tr>\n",
       "      <th>14</th>\n",
       "      <td>M</td>\n",
       "      <td>2</td>\n",
       "    </tr>\n",
       "    <tr>\n",
       "      <th>15</th>\n",
       "      <td>M</td>\n",
       "      <td>2</td>\n",
       "    </tr>\n",
       "    <tr>\n",
       "      <th>16</th>\n",
       "      <td>F</td>\n",
       "      <td>1</td>\n",
       "    </tr>\n",
       "    <tr>\n",
       "      <th>17</th>\n",
       "      <td>M</td>\n",
       "      <td>2</td>\n",
       "    </tr>\n",
       "    <tr>\n",
       "      <th>18</th>\n",
       "      <td>M</td>\n",
       "      <td>2</td>\n",
       "    </tr>\n",
       "    <tr>\n",
       "      <th>19</th>\n",
       "      <td>F</td>\n",
       "      <td>1</td>\n",
       "    </tr>\n",
       "    <tr>\n",
       "      <th>20</th>\n",
       "      <td>M</td>\n",
       "      <td>2</td>\n",
       "    </tr>\n",
       "    <tr>\n",
       "      <th>21</th>\n",
       "      <td>M</td>\n",
       "      <td>2</td>\n",
       "    </tr>\n",
       "    <tr>\n",
       "      <th>22</th>\n",
       "      <td>M</td>\n",
       "      <td>2</td>\n",
       "    </tr>\n",
       "    <tr>\n",
       "      <th>23</th>\n",
       "      <td>M</td>\n",
       "      <td>2</td>\n",
       "    </tr>\n",
       "    <tr>\n",
       "      <th>24</th>\n",
       "      <td>F</td>\n",
       "      <td>1</td>\n",
       "    </tr>\n",
       "  </tbody>\n",
       "</table>\n",
       "</div>"
      ],
      "text/plain": [
       "   Gender  GenderGroup\n",
       "0       F            1\n",
       "1       F            1\n",
       "2       F            1\n",
       "3       F            1\n",
       "4       M            2\n",
       "5       M            2\n",
       "6       M            2\n",
       "7       F            1\n",
       "8       M            2\n",
       "9       F            1\n",
       "10      M            2\n",
       "11      F            1\n",
       "12      F            1\n",
       "13      F            1\n",
       "14      M            2\n",
       "15      M            2\n",
       "16      F            1\n",
       "17      M            2\n",
       "18      M            2\n",
       "19      F            1\n",
       "20      M            2\n",
       "21      M            2\n",
       "22      M            2\n",
       "23      M            2\n",
       "24      F            1"
      ]
     },
     "execution_count": 9,
     "metadata": {},
     "output_type": "execute_result"
    }
   ],
   "source": [
    "df.loc[:,[\"Gender\", \"GenderGroup\"]]"
   ]
  },
  {
   "cell_type": "markdown",
   "id": "e787facf",
   "metadata": {},
   "source": [
    "From eyeballing the output, it seems to check out.  We can streamline this by utilizing the groupby() and size() functions."
   ]
  },
  {
   "cell_type": "code",
   "execution_count": 10,
   "id": "446a7b11",
   "metadata": {},
   "outputs": [
    {
     "data": {
      "text/plain": [
       "Gender  GenderGroup\n",
       "F       1              12\n",
       "M       2              13\n",
       "dtype: int64"
      ]
     },
     "execution_count": 10,
     "metadata": {},
     "output_type": "execute_result"
    }
   ],
   "source": [
    "df.groupby(['Gender','GenderGroup']).size()"
   ]
  },
  {
   "cell_type": "markdown",
   "id": "68d1cad0",
   "metadata": {},
   "source": [
    "This output indicates that we have two types of combinations. \n",
    "\n",
    "* Case 1: Gender = F & Gender Group = 1 \n",
    "* Case 2: Gender = M & GenderGroup = 2.  \n",
    "\n",
    "This validates our initial assumption that these two fields essentially portray the same information."
   ]
  },
  {
   "cell_type": "code",
   "execution_count": null,
   "id": "34c5e88d",
   "metadata": {},
   "outputs": [],
   "source": []
  }
 ],
 "metadata": {
  "kernelspec": {
   "display_name": "Python 3 (ipykernel)",
   "language": "python",
   "name": "python3"
  },
  "language_info": {
   "codemirror_mode": {
    "name": "ipython",
    "version": 3
   },
   "file_extension": ".py",
   "mimetype": "text/x-python",
   "name": "python",
   "nbconvert_exporter": "python",
   "pygments_lexer": "ipython3",
   "version": "3.9.5"
  }
 },
 "nbformat": 4,
 "nbformat_minor": 5
}
